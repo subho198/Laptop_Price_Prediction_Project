{
 "cells": [
  {
   "cell_type": "code",
   "execution_count": 1,
   "id": "a7984a96",
   "metadata": {},
   "outputs": [],
   "source": [
    "import numpy as np\n",
    "import pandas as pd\n",
    "import seaborn as sns\n",
    "import matplotlib.pyplot as plt\n",
    "%matplotlib inline"
   ]
  },
  {
   "cell_type": "code",
   "execution_count": 2,
   "id": "fae45a8e",
   "metadata": {},
   "outputs": [],
   "source": [
    "df=pd.read_csv(\"laptop_price(3rd).csv\")"
   ]
  },
  {
   "cell_type": "code",
   "execution_count": 3,
   "id": "b2ad162f",
   "metadata": {},
   "outputs": [
    {
     "data": {
      "text/html": [
       "<div>\n",
       "<style scoped>\n",
       "    .dataframe tbody tr th:only-of-type {\n",
       "        vertical-align: middle;\n",
       "    }\n",
       "\n",
       "    .dataframe tbody tr th {\n",
       "        vertical-align: top;\n",
       "    }\n",
       "\n",
       "    .dataframe thead th {\n",
       "        text-align: right;\n",
       "    }\n",
       "</style>\n",
       "<table border=\"1\" class=\"dataframe\">\n",
       "  <thead>\n",
       "    <tr style=\"text-align: right;\">\n",
       "      <th></th>\n",
       "      <th>Unnamed: 0</th>\n",
       "      <th>Company</th>\n",
       "      <th>TypeName</th>\n",
       "      <th>Inches</th>\n",
       "      <th>Touchscreen</th>\n",
       "      <th>Ips</th>\n",
       "      <th>Cpu_Vender</th>\n",
       "      <th>Cpu_Type</th>\n",
       "      <th>Ram</th>\n",
       "      <th>Storage (GB)</th>\n",
       "      <th>Storage Type</th>\n",
       "      <th>Gpu_Vender</th>\n",
       "      <th>Gpu_Type</th>\n",
       "      <th>Weight</th>\n",
       "      <th>OpSys</th>\n",
       "      <th>Price_euros</th>\n",
       "    </tr>\n",
       "  </thead>\n",
       "  <tbody>\n",
       "    <tr>\n",
       "      <th>0</th>\n",
       "      <td>0</td>\n",
       "      <td>Apple</td>\n",
       "      <td>Ultrabook</td>\n",
       "      <td>13.3</td>\n",
       "      <td>0</td>\n",
       "      <td>1</td>\n",
       "      <td>Intel</td>\n",
       "      <td>Core i5</td>\n",
       "      <td>8</td>\n",
       "      <td>128</td>\n",
       "      <td>SSD</td>\n",
       "      <td>Intel</td>\n",
       "      <td>Iris Plus Graphics 640</td>\n",
       "      <td>1.37</td>\n",
       "      <td>Mac</td>\n",
       "      <td>1339.69</td>\n",
       "    </tr>\n",
       "    <tr>\n",
       "      <th>1</th>\n",
       "      <td>1</td>\n",
       "      <td>Apple</td>\n",
       "      <td>Ultrabook</td>\n",
       "      <td>13.3</td>\n",
       "      <td>0</td>\n",
       "      <td>0</td>\n",
       "      <td>Intel</td>\n",
       "      <td>Core i5</td>\n",
       "      <td>8</td>\n",
       "      <td>128</td>\n",
       "      <td>Flash Storage</td>\n",
       "      <td>Intel</td>\n",
       "      <td>HD Graphics 6000</td>\n",
       "      <td>1.34</td>\n",
       "      <td>Mac</td>\n",
       "      <td>898.94</td>\n",
       "    </tr>\n",
       "    <tr>\n",
       "      <th>2</th>\n",
       "      <td>2</td>\n",
       "      <td>HP</td>\n",
       "      <td>Notebook</td>\n",
       "      <td>15.6</td>\n",
       "      <td>0</td>\n",
       "      <td>0</td>\n",
       "      <td>Intel</td>\n",
       "      <td>Core i5</td>\n",
       "      <td>8</td>\n",
       "      <td>256</td>\n",
       "      <td>SSD</td>\n",
       "      <td>Intel</td>\n",
       "      <td>HD Graphics 620</td>\n",
       "      <td>1.86</td>\n",
       "      <td>Others/No OS/Linux</td>\n",
       "      <td>575.00</td>\n",
       "    </tr>\n",
       "    <tr>\n",
       "      <th>3</th>\n",
       "      <td>3</td>\n",
       "      <td>Apple</td>\n",
       "      <td>Ultrabook</td>\n",
       "      <td>15.4</td>\n",
       "      <td>0</td>\n",
       "      <td>1</td>\n",
       "      <td>Intel</td>\n",
       "      <td>Core i7</td>\n",
       "      <td>16</td>\n",
       "      <td>512</td>\n",
       "      <td>SSD</td>\n",
       "      <td>AMD</td>\n",
       "      <td>Radeon Pro 455</td>\n",
       "      <td>1.83</td>\n",
       "      <td>Mac</td>\n",
       "      <td>2537.45</td>\n",
       "    </tr>\n",
       "    <tr>\n",
       "      <th>4</th>\n",
       "      <td>4</td>\n",
       "      <td>Apple</td>\n",
       "      <td>Ultrabook</td>\n",
       "      <td>13.3</td>\n",
       "      <td>0</td>\n",
       "      <td>1</td>\n",
       "      <td>Intel</td>\n",
       "      <td>Core i5</td>\n",
       "      <td>8</td>\n",
       "      <td>256</td>\n",
       "      <td>SSD</td>\n",
       "      <td>Intel</td>\n",
       "      <td>Iris Plus Graphics 650</td>\n",
       "      <td>1.37</td>\n",
       "      <td>Mac</td>\n",
       "      <td>1803.60</td>\n",
       "    </tr>\n",
       "  </tbody>\n",
       "</table>\n",
       "</div>"
      ],
      "text/plain": [
       "   Unnamed: 0 Company   TypeName  Inches  Touchscreen  Ips Cpu_Vender  \\\n",
       "0           0   Apple  Ultrabook    13.3            0    1      Intel   \n",
       "1           1   Apple  Ultrabook    13.3            0    0      Intel   \n",
       "2           2      HP   Notebook    15.6            0    0      Intel   \n",
       "3           3   Apple  Ultrabook    15.4            0    1      Intel   \n",
       "4           4   Apple  Ultrabook    13.3            0    1      Intel   \n",
       "\n",
       "  Cpu_Type  Ram  Storage (GB)   Storage Type Gpu_Vender  \\\n",
       "0  Core i5    8           128            SSD      Intel   \n",
       "1  Core i5    8           128  Flash Storage      Intel   \n",
       "2  Core i5    8           256            SSD      Intel   \n",
       "3  Core i7   16           512            SSD        AMD   \n",
       "4  Core i5    8           256            SSD      Intel   \n",
       "\n",
       "                 Gpu_Type  Weight               OpSys  Price_euros  \n",
       "0  Iris Plus Graphics 640    1.37                 Mac      1339.69  \n",
       "1        HD Graphics 6000    1.34                 Mac       898.94  \n",
       "2         HD Graphics 620    1.86  Others/No OS/Linux       575.00  \n",
       "3          Radeon Pro 455    1.83                 Mac      2537.45  \n",
       "4  Iris Plus Graphics 650    1.37                 Mac      1803.60  "
      ]
     },
     "execution_count": 3,
     "metadata": {},
     "output_type": "execute_result"
    }
   ],
   "source": [
    "df.head()"
   ]
  },
  {
   "cell_type": "code",
   "execution_count": 4,
   "id": "989c6e87",
   "metadata": {},
   "outputs": [
    {
     "name": "stdout",
     "output_type": "stream",
     "text": [
      "<class 'pandas.core.frame.DataFrame'>\n",
      "RangeIndex: 1303 entries, 0 to 1302\n",
      "Data columns (total 16 columns):\n",
      " #   Column        Non-Null Count  Dtype  \n",
      "---  ------        --------------  -----  \n",
      " 0   Unnamed: 0    1303 non-null   int64  \n",
      " 1   Company       1303 non-null   object \n",
      " 2   TypeName      1303 non-null   object \n",
      " 3   Inches        1303 non-null   float64\n",
      " 4   Touchscreen   1303 non-null   int64  \n",
      " 5   Ips           1303 non-null   int64  \n",
      " 6   Cpu_Vender    1303 non-null   object \n",
      " 7   Cpu_Type      1303 non-null   object \n",
      " 8   Ram           1303 non-null   int64  \n",
      " 9   Storage (GB)  1303 non-null   int64  \n",
      " 10  Storage Type  1303 non-null   object \n",
      " 11  Gpu_Vender    1303 non-null   object \n",
      " 12  Gpu_Type      1303 non-null   object \n",
      " 13  Weight        1303 non-null   float64\n",
      " 14  OpSys         1303 non-null   object \n",
      " 15  Price_euros   1303 non-null   float64\n",
      "dtypes: float64(3), int64(5), object(8)\n",
      "memory usage: 163.0+ KB\n"
     ]
    }
   ],
   "source": [
    "df.info()"
   ]
  },
  {
   "cell_type": "code",
   "execution_count": 5,
   "id": "ce99e8c0",
   "metadata": {},
   "outputs": [
    {
     "data": {
      "text/html": [
       "<div>\n",
       "<style scoped>\n",
       "    .dataframe tbody tr th:only-of-type {\n",
       "        vertical-align: middle;\n",
       "    }\n",
       "\n",
       "    .dataframe tbody tr th {\n",
       "        vertical-align: top;\n",
       "    }\n",
       "\n",
       "    .dataframe thead th {\n",
       "        text-align: right;\n",
       "    }\n",
       "</style>\n",
       "<table border=\"1\" class=\"dataframe\">\n",
       "  <thead>\n",
       "    <tr style=\"text-align: right;\">\n",
       "      <th></th>\n",
       "      <th>Unnamed: 0</th>\n",
       "      <th>Inches</th>\n",
       "      <th>Touchscreen</th>\n",
       "      <th>Ips</th>\n",
       "      <th>Ram</th>\n",
       "      <th>Storage (GB)</th>\n",
       "      <th>Weight</th>\n",
       "      <th>Price_euros</th>\n",
       "    </tr>\n",
       "  </thead>\n",
       "  <tbody>\n",
       "    <tr>\n",
       "      <th>count</th>\n",
       "      <td>1303.00000</td>\n",
       "      <td>1303.000000</td>\n",
       "      <td>1303.000000</td>\n",
       "      <td>1303.000000</td>\n",
       "      <td>1303.000000</td>\n",
       "      <td>1303.000000</td>\n",
       "      <td>1303.000000</td>\n",
       "      <td>1303.000000</td>\n",
       "    </tr>\n",
       "    <tr>\n",
       "      <th>mean</th>\n",
       "      <td>651.00000</td>\n",
       "      <td>15.017191</td>\n",
       "      <td>0.147352</td>\n",
       "      <td>0.280123</td>\n",
       "      <td>8.382195</td>\n",
       "      <td>447.809670</td>\n",
       "      <td>2.038734</td>\n",
       "      <td>1123.686992</td>\n",
       "    </tr>\n",
       "    <tr>\n",
       "      <th>std</th>\n",
       "      <td>376.28801</td>\n",
       "      <td>1.426304</td>\n",
       "      <td>0.354593</td>\n",
       "      <td>0.449231</td>\n",
       "      <td>5.084665</td>\n",
       "      <td>366.037159</td>\n",
       "      <td>0.665475</td>\n",
       "      <td>699.009043</td>\n",
       "    </tr>\n",
       "    <tr>\n",
       "      <th>min</th>\n",
       "      <td>0.00000</td>\n",
       "      <td>10.100000</td>\n",
       "      <td>0.000000</td>\n",
       "      <td>0.000000</td>\n",
       "      <td>2.000000</td>\n",
       "      <td>8.000000</td>\n",
       "      <td>0.690000</td>\n",
       "      <td>174.000000</td>\n",
       "    </tr>\n",
       "    <tr>\n",
       "      <th>25%</th>\n",
       "      <td>325.50000</td>\n",
       "      <td>14.000000</td>\n",
       "      <td>0.000000</td>\n",
       "      <td>0.000000</td>\n",
       "      <td>4.000000</td>\n",
       "      <td>256.000000</td>\n",
       "      <td>1.500000</td>\n",
       "      <td>599.000000</td>\n",
       "    </tr>\n",
       "    <tr>\n",
       "      <th>50%</th>\n",
       "      <td>651.00000</td>\n",
       "      <td>15.600000</td>\n",
       "      <td>0.000000</td>\n",
       "      <td>0.000000</td>\n",
       "      <td>8.000000</td>\n",
       "      <td>256.000000</td>\n",
       "      <td>2.040000</td>\n",
       "      <td>977.000000</td>\n",
       "    </tr>\n",
       "    <tr>\n",
       "      <th>75%</th>\n",
       "      <td>976.50000</td>\n",
       "      <td>15.600000</td>\n",
       "      <td>0.000000</td>\n",
       "      <td>1.000000</td>\n",
       "      <td>8.000000</td>\n",
       "      <td>512.000000</td>\n",
       "      <td>2.300000</td>\n",
       "      <td>1487.880000</td>\n",
       "    </tr>\n",
       "    <tr>\n",
       "      <th>max</th>\n",
       "      <td>1302.00000</td>\n",
       "      <td>18.400000</td>\n",
       "      <td>1.000000</td>\n",
       "      <td>1.000000</td>\n",
       "      <td>64.000000</td>\n",
       "      <td>2048.000000</td>\n",
       "      <td>4.700000</td>\n",
       "      <td>6099.000000</td>\n",
       "    </tr>\n",
       "  </tbody>\n",
       "</table>\n",
       "</div>"
      ],
      "text/plain": [
       "       Unnamed: 0       Inches  Touchscreen          Ips          Ram  \\\n",
       "count  1303.00000  1303.000000  1303.000000  1303.000000  1303.000000   \n",
       "mean    651.00000    15.017191     0.147352     0.280123     8.382195   \n",
       "std     376.28801     1.426304     0.354593     0.449231     5.084665   \n",
       "min       0.00000    10.100000     0.000000     0.000000     2.000000   \n",
       "25%     325.50000    14.000000     0.000000     0.000000     4.000000   \n",
       "50%     651.00000    15.600000     0.000000     0.000000     8.000000   \n",
       "75%     976.50000    15.600000     0.000000     1.000000     8.000000   \n",
       "max    1302.00000    18.400000     1.000000     1.000000    64.000000   \n",
       "\n",
       "       Storage (GB)       Weight  Price_euros  \n",
       "count   1303.000000  1303.000000  1303.000000  \n",
       "mean     447.809670     2.038734  1123.686992  \n",
       "std      366.037159     0.665475   699.009043  \n",
       "min        8.000000     0.690000   174.000000  \n",
       "25%      256.000000     1.500000   599.000000  \n",
       "50%      256.000000     2.040000   977.000000  \n",
       "75%      512.000000     2.300000  1487.880000  \n",
       "max     2048.000000     4.700000  6099.000000  "
      ]
     },
     "execution_count": 5,
     "metadata": {},
     "output_type": "execute_result"
    }
   ],
   "source": [
    "df.describe()"
   ]
  },
  {
   "cell_type": "code",
   "execution_count": 6,
   "id": "8a01d79c",
   "metadata": {},
   "outputs": [
    {
     "data": {
      "text/plain": [
       "Unnamed: 0      0.067984\n",
       "Inches          0.068197\n",
       "Touchscreen     0.191226\n",
       "Ips             0.252208\n",
       "Ram             0.743007\n",
       "Storage (GB)   -0.125363\n",
       "Weight          0.210370\n",
       "Price_euros     1.000000\n",
       "dtype: float64"
      ]
     },
     "execution_count": 6,
     "metadata": {},
     "output_type": "execute_result"
    }
   ],
   "source": [
    "df.corrwith(df['Price_euros'])"
   ]
  },
  {
   "cell_type": "markdown",
   "id": "09116d51",
   "metadata": {},
   "source": [
    "### EDA"
   ]
  },
  {
   "cell_type": "code",
   "execution_count": 7,
   "id": "7ddc9db8",
   "metadata": {},
   "outputs": [
    {
     "name": "stderr",
     "output_type": "stream",
     "text": [
      "C:\\ProgramData\\Anaconda3\\lib\\site-packages\\seaborn\\_decorators.py:36: FutureWarning: Pass the following variables as keyword args: x, y. From version 0.12, the only valid positional argument will be `data`, and passing other arguments without an explicit keyword will result in an error or misinterpretation.\n",
      "  warnings.warn(\n"
     ]
    },
    {
     "data": {
      "image/png": "[encoded data removed]",
      "text/plain": [
       "<Figure size 432x288 with 1 Axes>"
      ]
     },
     "metadata": {
      "needs_background": "light"
     },
     "output_type": "display_data"
    }
   ],
   "source": [
    "sns.scatterplot(df['Company'],df['Price_euros'])\n",
    "plt.xticks(rotation=90)\n",
    "plt.tight_layout()"
   ]
  },
  {
   "cell_type": "code",
   "execution_count": 8,
   "id": "0b668cd8",
   "metadata": {},
   "outputs": [
    {
     "data": {
      "text/plain": [
       "<AxesSubplot:xlabel='Price_euros', ylabel='Count'>"
      ]
     },
     "execution_count": 8,
     "metadata": {},
     "output_type": "execute_result"
    },
    {
     "data": {
      "image/png": "[encoded data removed]",
      "text/plain": [
       "<Figure size 432x288 with 1 Axes>"
      ]
     },
     "metadata": {
      "needs_background": "light"
     },
     "output_type": "display_data"
    }
   ],
   "source": [
    "sns.histplot(df['Price_euros'],kde=True)"
   ]
  },
  {
   "cell_type": "code",
   "execution_count": 9,
   "id": "26722174",
   "metadata": {},
   "outputs": [
    {
     "data": {
      "image/png": "[encoded data removed]",
      "text/plain": [
       "<Figure size 576x432 with 1 Axes>"
      ]
     },
     "metadata": {
      "needs_background": "light"
     },
     "output_type": "display_data"
    }
   ],
   "source": [
    "plt.figure(figsize=(8,6))\n",
    "sns.histplot(df['Company'])\n",
    "plt.xticks(rotation=90)\n",
    "plt.show()"
   ]
  },
  {
   "cell_type": "code",
   "execution_count": 10,
   "id": "793d55e7",
   "metadata": {},
   "outputs": [
    {
     "data": {
      "image/png": "[encoded data removed]",
      "text/plain": [
       "<Figure size 576x432 with 1 Axes>"
      ]
     },
     "metadata": {
      "needs_background": "light"
     },
     "output_type": "display_data"
    }
   ],
   "source": [
    "plt.figure(figsize=(8,6))\n",
    "sns.barplot(x=df['Company'],y=df['Price_euros'])\n",
    "plt.xticks(rotation=90)\n",
    "plt.show()"
   ]
  },
  {
   "cell_type": "code",
   "execution_count": 11,
   "id": "9b9e5666",
   "metadata": {},
   "outputs": [
    {
     "data": {
      "text/plain": [
       "Notebook              727\n",
       "Gaming                205\n",
       "Ultrabook             196\n",
       "2 in 1 Convertible    121\n",
       "Workstation            29\n",
       "Netbook                25\n",
       "Name: TypeName, dtype: int64"
      ]
     },
     "execution_count": 11,
     "metadata": {},
     "output_type": "execute_result"
    }
   ],
   "source": [
    "df['TypeName'].value_counts()"
   ]
  },
  {
   "cell_type": "code",
   "execution_count": 12,
   "id": "0e9f5e38",
   "metadata": {},
   "outputs": [
    {
     "data": {
      "image/png": "[encoded data removed]",
      "text/plain": [
       "<Figure size 576x432 with 1 Axes>"
      ]
     },
     "metadata": {
      "needs_background": "light"
     },
     "output_type": "display_data"
    }
   ],
   "source": [
    "plt.figure(figsize=(8,6))\n",
    "sns.histplot(df['TypeName'])\n",
    "plt.xticks(rotation=90)\n",
    "plt.show()"
   ]
  },
  {
   "cell_type": "code",
   "execution_count": 13,
   "id": "54d6195e",
   "metadata": {},
   "outputs": [
    {
     "data": {
      "image/png": "[encoded data removed]",
      "text/plain": [
       "<Figure size 432x288 with 1 Axes>"
      ]
     },
     "metadata": {
      "needs_background": "light"
     },
     "output_type": "display_data"
    }
   ],
   "source": [
    "sns.barplot(x=df['TypeName'],y=df['Price_euros'])\n",
    "plt.xticks(rotation=90)\n",
    "plt.show()"
   ]
  },
  {
   "cell_type": "code",
   "execution_count": 14,
   "id": "5a3c35f1",
   "metadata": {},
   "outputs": [
    {
     "data": {
      "text/plain": [
       "<AxesSubplot:xlabel='Touchscreen', ylabel='Count'>"
      ]
     },
     "execution_count": 14,
     "metadata": {},
     "output_type": "execute_result"
    },
    {
     "data": {
      "image/png": "[encoded data removed]",
      "text/plain": [
       "<Figure size 432x288 with 1 Axes>"
      ]
     },
     "metadata": {
      "needs_background": "light"
     },
     "output_type": "display_data"
    }
   ],
   "source": [
    "sns.histplot(df['Touchscreen'])"
   ]
  },
  {
   "cell_type": "code",
   "execution_count": 15,
   "id": "f1893738",
   "metadata": {},
   "outputs": [
    {
     "name": "stderr",
     "output_type": "stream",
     "text": [
      "C:\\ProgramData\\Anaconda3\\lib\\site-packages\\seaborn\\_decorators.py:36: FutureWarning: Pass the following variables as keyword args: x, y. From version 0.12, the only valid positional argument will be `data`, and passing other arguments without an explicit keyword will result in an error or misinterpretation.\n",
      "  warnings.warn(\n"
     ]
    },
    {
     "data": {
      "text/plain": [
       "<AxesSubplot:xlabel='Touchscreen', ylabel='Price_euros'>"
      ]
     },
     "execution_count": 15,
     "metadata": {},
     "output_type": "execute_result"
    },
    {
     "data": {
      "image/png": "[encoded data removed]",
      "text/plain": [
       "<Figure size 432x288 with 1 Axes>"
      ]
     },
     "metadata": {
      "needs_background": "light"
     },
     "output_type": "display_data"
    }
   ],
   "source": [
    "sns.barplot(df['Touchscreen'],df['Price_euros'])"
   ]
  },
  {
   "cell_type": "code",
   "execution_count": 16,
   "id": "8ff591c7",
   "metadata": {},
   "outputs": [
    {
     "data": {
      "text/plain": [
       "<AxesSubplot:xlabel='Ips', ylabel='Count'>"
      ]
     },
     "execution_count": 16,
     "metadata": {},
     "output_type": "execute_result"
    },
    {
     "data": {
      "image/png": "[encoded data removed]",
      "text/plain": [
       "<Figure size 432x288 with 1 Axes>"
      ]
     },
     "metadata": {
      "needs_background": "light"
     },
     "output_type": "display_data"
    }
   ],
   "source": [
    "sns.histplot(df['Ips'])"
   ]
  },
  {
   "cell_type": "code",
   "execution_count": 17,
   "id": "f043c798",
   "metadata": {},
   "outputs": [
    {
     "name": "stderr",
     "output_type": "stream",
     "text": [
      "C:\\ProgramData\\Anaconda3\\lib\\site-packages\\seaborn\\_decorators.py:36: FutureWarning: Pass the following variables as keyword args: x, y. From version 0.12, the only valid positional argument will be `data`, and passing other arguments without an explicit keyword will result in an error or misinterpretation.\n",
      "  warnings.warn(\n"
     ]
    },
    {
     "data": {
      "text/plain": [
       "<AxesSubplot:xlabel='Ips', ylabel='Price_euros'>"
      ]
     },
     "execution_count": 17,
     "metadata": {},
     "output_type": "execute_result"
    },
    {
     "data": {
      "image/png": "[encoded data removed]",
      "text/plain": [
       "<Figure size 432x288 with 1 Axes>"
      ]
     },
     "metadata": {
      "needs_background": "light"
     },
     "output_type": "display_data"
    }
   ],
   "source": [
    "sns.barplot(df['Ips'],df['Price_euros'])"
   ]
  },
  {
   "cell_type": "code",
   "execution_count": 18,
   "id": "7fa9dd86",
   "metadata": {},
   "outputs": [
    {
     "data": {
      "text/plain": [
       "<AxesSubplot:xlabel='Cpu_Vender', ylabel='Count'>"
      ]
     },
     "execution_count": 18,
     "metadata": {},
     "output_type": "execute_result"
    },
    {
     "data": {
      "image/png": "[encoded data removed]",
      "text/plain": [
       "<Figure size 432x288 with 1 Axes>"
      ]
     },
     "metadata": {
      "needs_background": "light"
     },
     "output_type": "display_data"
    }
   ],
   "source": [
    "sns.histplot(df['Cpu_Vender'])"
   ]
  },
  {
   "cell_type": "code",
   "execution_count": 19,
   "id": "d3c5a033",
   "metadata": {},
   "outputs": [
    {
     "name": "stderr",
     "output_type": "stream",
     "text": [
      "C:\\ProgramData\\Anaconda3\\lib\\site-packages\\seaborn\\_decorators.py:36: FutureWarning: Pass the following variables as keyword args: x, y. From version 0.12, the only valid positional argument will be `data`, and passing other arguments without an explicit keyword will result in an error or misinterpretation.\n",
      "  warnings.warn(\n"
     ]
    },
    {
     "data": {
      "text/plain": [
       "<AxesSubplot:xlabel='Cpu_Vender', ylabel='Price_euros'>"
      ]
     },
     "execution_count": 19,
     "metadata": {},
     "output_type": "execute_result"
    },
    {
     "data": {
      "image/png": "[encoded data removed]",
      "text/plain": [
       "<Figure size 432x288 with 1 Axes>"
      ]
     },
     "metadata": {
      "needs_background": "light"
     },
     "output_type": "display_data"
    }
   ],
   "source": [
    "sns.barplot(df['Cpu_Vender'],df['Price_euros'])"
   ]
  },
  {
   "cell_type": "code",
   "execution_count": 20,
   "id": "9ea1b3ab",
   "metadata": {},
   "outputs": [
    {
     "data": {
      "image/png": "[encoded data removed]",
      "text/plain": [
       "<Figure size 1440x576 with 1 Axes>"
      ]
     },
     "metadata": {
      "needs_background": "light"
     },
     "output_type": "display_data"
    }
   ],
   "source": [
    "plt.figure(figsize=(20,8))\n",
    "sns.histplot(df['Cpu_Type'])\n",
    "plt.xticks(rotation=90)\n",
    "plt.show()"
   ]
  },
  {
   "cell_type": "code",
   "execution_count": 21,
   "id": "1b019afa",
   "metadata": {},
   "outputs": [
    {
     "name": "stderr",
     "output_type": "stream",
     "text": [
      "C:\\ProgramData\\Anaconda3\\lib\\site-packages\\seaborn\\_decorators.py:36: FutureWarning: Pass the following variables as keyword args: x, y. From version 0.12, the only valid positional argument will be `data`, and passing other arguments without an explicit keyword will result in an error or misinterpretation.\n",
      "  warnings.warn(\n"
     ]
    },
    {
     "data": {
      "image/png": "[encoded data removed]",
      "text/plain": [
       "<Figure size 1440x576 with 1 Axes>"
      ]
     },
     "metadata": {
      "needs_background": "light"
     },
     "output_type": "display_data"
    }
   ],
   "source": [
    "plt.figure(figsize=(20,8))\n",
    "sns.barplot(df['Cpu_Type'],df['Price_euros'])\n",
    "plt.xticks(rotation=90)\n",
    "plt.show()"
   ]
  },
  {
   "cell_type": "code",
   "execution_count": 22,
   "id": "ca327b18",
   "metadata": {},
   "outputs": [
    {
     "data": {
      "image/png": "[encoded data removed]",
      "text/plain": [
       "<Figure size 864x432 with 1 Axes>"
      ]
     },
     "metadata": {
      "needs_background": "light"
     },
     "output_type": "display_data"
    }
   ],
   "source": [
    "plt.figure(figsize=(12,6))\n",
    "sns.histplot(df['Ram'])\n",
    "plt.xticks(rotation=90)\n",
    "plt.show()"
   ]
  },
  {
   "cell_type": "code",
   "execution_count": 23,
   "id": "f034ad6e",
   "metadata": {},
   "outputs": [
    {
     "name": "stderr",
     "output_type": "stream",
     "text": [
      "C:\\ProgramData\\Anaconda3\\lib\\site-packages\\seaborn\\_decorators.py:36: FutureWarning: Pass the following variables as keyword args: x, y. From version 0.12, the only valid positional argument will be `data`, and passing other arguments without an explicit keyword will result in an error or misinterpretation.\n",
      "  warnings.warn(\n"
     ]
    },
    {
     "data": {
      "image/png": "[encoded data removed]",
      "text/plain": [
       "<Figure size 864x432 with 1 Axes>"
      ]
     },
     "metadata": {
      "needs_background": "light"
     },
     "output_type": "display_data"
    }
   ],
   "source": [
    "plt.figure(figsize=(12,6))\n",
    "sns.barplot(df['Ram'],df['Price_euros'])\n",
    "plt.xticks(rotation=90)\n",
    "plt.show()"
   ]
  },
  {
   "cell_type": "code",
   "execution_count": 24,
   "id": "e33ed7a1",
   "metadata": {},
   "outputs": [
    {
     "data": {
      "image/png": "[encoded data removed]",
      "text/plain": [
       "<Figure size 864x432 with 1 Axes>"
      ]
     },
     "metadata": {
      "needs_background": "light"
     },
     "output_type": "display_data"
    }
   ],
   "source": [
    "plt.figure(figsize=(12,6))\n",
    "sns.histplot(df['Storage (GB)'])\n",
    "plt.xticks(rotation=90)\n",
    "plt.show()"
   ]
  },
  {
   "cell_type": "code",
   "execution_count": 25,
   "id": "66fc6852",
   "metadata": {},
   "outputs": [
    {
     "name": "stderr",
     "output_type": "stream",
     "text": [
      "C:\\ProgramData\\Anaconda3\\lib\\site-packages\\seaborn\\_decorators.py:36: FutureWarning: Pass the following variables as keyword args: x, y. From version 0.12, the only valid positional argument will be `data`, and passing other arguments without an explicit keyword will result in an error or misinterpretation.\n",
      "  warnings.warn(\n"
     ]
    },
    {
     "data": {
      "image/png": "[encoded data removed]",
      "text/plain": [
       "<Figure size 864x432 with 1 Axes>"
      ]
     },
     "metadata": {
      "needs_background": "light"
     },
     "output_type": "display_data"
    }
   ],
   "source": [
    "plt.figure(figsize=(12,6))\n",
    "sns.barplot(df['Storage (GB)'],df['Price_euros'])\n",
    "plt.xticks(rotation=90)\n",
    "plt.show()"
   ]
  },
  {
   "cell_type": "code",
   "execution_count": 26,
   "id": "5c455ed3",
   "metadata": {},
   "outputs": [
    {
     "data": {
      "image/png": "[encoded data removed]",
      "text/plain": [
       "<Figure size 864x432 with 1 Axes>"
      ]
     },
     "metadata": {
      "needs_background": "light"
     },
     "output_type": "display_data"
    }
   ],
   "source": [
    "plt.figure(figsize=(12,6))\n",
    "sns.histplot(df['Storage Type'])\n",
    "plt.xticks(rotation=90)\n",
    "plt.show()"
   ]
  },
  {
   "cell_type": "code",
   "execution_count": 27,
   "id": "d7fd0319",
   "metadata": {},
   "outputs": [
    {
     "name": "stderr",
     "output_type": "stream",
     "text": [
      "C:\\ProgramData\\Anaconda3\\lib\\site-packages\\seaborn\\_decorators.py:36: FutureWarning: Pass the following variables as keyword args: x, y. From version 0.12, the only valid positional argument will be `data`, and passing other arguments without an explicit keyword will result in an error or misinterpretation.\n",
      "  warnings.warn(\n"
     ]
    },
    {
     "data": {
      "image/png": "[encoded data removed]",
      "text/plain": [
       "<Figure size 864x432 with 1 Axes>"
      ]
     },
     "metadata": {
      "needs_background": "light"
     },
     "output_type": "display_data"
    }
   ],
   "source": [
    "plt.figure(figsize=(12,6))\n",
    "sns.barplot(df['Storage Type'],df['Price_euros'])\n",
    "plt.xticks(rotation=90)\n",
    "plt.show()"
   ]
  },
  {
   "cell_type": "code",
   "execution_count": 28,
   "id": "3e189dfa",
   "metadata": {},
   "outputs": [
    {
     "data": {
      "image/png": "[encoded data removed]",
      "text/plain": [
       "<Figure size 864x432 with 1 Axes>"
      ]
     },
     "metadata": {
      "needs_background": "light"
     },
     "output_type": "display_data"
    }
   ],
   "source": [
    "plt.figure(figsize=(12,6))\n",
    "sns.histplot(df['Gpu_Vender'])\n",
    "plt.xticks(rotation=90)\n",
    "plt.show()"
   ]
  },
  {
   "cell_type": "code",
   "execution_count": 29,
   "id": "4783c87c",
   "metadata": {},
   "outputs": [
    {
     "name": "stderr",
     "output_type": "stream",
     "text": [
      "C:\\ProgramData\\Anaconda3\\lib\\site-packages\\seaborn\\_decorators.py:36: FutureWarning: Pass the following variables as keyword args: x, y. From version 0.12, the only valid positional argument will be `data`, and passing other arguments without an explicit keyword will result in an error or misinterpretation.\n",
      "  warnings.warn(\n"
     ]
    },
    {
     "data": {
      "image/png": "[encoded data removed]",
      "text/plain": [
       "<Figure size 864x432 with 1 Axes>"
      ]
     },
     "metadata": {
      "needs_background": "light"
     },
     "output_type": "display_data"
    }
   ],
   "source": [
    "plt.figure(figsize=(12,6))\n",
    "sns.barplot(df['Gpu_Vender'],df['Price_euros'])\n",
    "plt.xticks(rotation=90)\n",
    "plt.show()"
   ]
  },
  {
   "cell_type": "code",
   "execution_count": 30,
   "id": "506728ba",
   "metadata": {},
   "outputs": [
    {
     "data": {
      "image/png": "[encoded data removed]",
      "text/plain": [
       "<Figure size 1800x576 with 1 Axes>"
      ]
     },
     "metadata": {
      "needs_background": "light"
     },
     "output_type": "display_data"
    }
   ],
   "source": [
    "plt.figure(figsize=(25,8))\n",
    "sns.histplot(df['Gpu_Type'])\n",
    "plt.xticks(rotation=90)\n",
    "plt.show()"
   ]
  },
  {
   "cell_type": "code",
   "execution_count": 31,
   "id": "50bb7817",
   "metadata": {},
   "outputs": [
    {
     "name": "stderr",
     "output_type": "stream",
     "text": [
      "C:\\ProgramData\\Anaconda3\\lib\\site-packages\\seaborn\\_decorators.py:36: FutureWarning: Pass the following variables as keyword args: x, y. From version 0.12, the only valid positional argument will be `data`, and passing other arguments without an explicit keyword will result in an error or misinterpretation.\n",
      "  warnings.warn(\n"
     ]
    },
    {
     "data": {
      "image/png": "[encoded data removed]",
      "text/plain": [
       "<Figure size 1800x432 with 1 Axes>"
      ]
     },
     "metadata": {
      "needs_background": "light"
     },
     "output_type": "display_data"
    }
   ],
   "source": [
    "plt.figure(figsize=(25,6))\n",
    "sns.barplot(df['Gpu_Type'],df['Price_euros'])\n",
    "plt.xticks(rotation=90)\n",
    "plt.show()"
   ]
  },
  {
   "cell_type": "code",
   "execution_count": 32,
   "id": "e84ee1da",
   "metadata": {},
   "outputs": [
    {
     "data": {
      "image/png": "[encoded data removed]",
      "text/plain": [
       "<Figure size 1800x576 with 1 Axes>"
      ]
     },
     "metadata": {
      "needs_background": "light"
     },
     "output_type": "display_data"
    }
   ],
   "source": [
    "plt.figure(figsize=(25,8))\n",
    "sns.histplot(df['Weight'])\n",
    "plt.xticks(rotation=90)\n",
    "plt.show()"
   ]
  },
  {
   "cell_type": "code",
   "execution_count": 33,
   "id": "6401cbf3",
   "metadata": {},
   "outputs": [
    {
     "name": "stderr",
     "output_type": "stream",
     "text": [
      "C:\\ProgramData\\Anaconda3\\lib\\site-packages\\seaborn\\_decorators.py:36: FutureWarning: Pass the following variables as keyword args: x, y. From version 0.12, the only valid positional argument will be `data`, and passing other arguments without an explicit keyword will result in an error or misinterpretation.\n",
      "  warnings.warn(\n"
     ]
    },
    {
     "data": {
      "image/png": "[encoded data removed]",
      "text/plain": [
       "<Figure size 1800x432 with 1 Axes>"
      ]
     },
     "metadata": {
      "needs_background": "light"
     },
     "output_type": "display_data"
    }
   ],
   "source": [
    "plt.figure(figsize=(25,6))\n",
    "sns.barplot(df['Weight'],df['Price_euros'])\n",
    "plt.xticks(rotation=90)\n",
    "plt.show()"
   ]
  },
  {
   "cell_type": "code",
   "execution_count": 34,
   "id": "4835bdef",
   "metadata": {},
   "outputs": [
    {
     "name": "stderr",
     "output_type": "stream",
     "text": [
      "C:\\ProgramData\\Anaconda3\\lib\\site-packages\\seaborn\\_decorators.py:36: FutureWarning: Pass the following variables as keyword args: x, y. From version 0.12, the only valid positional argument will be `data`, and passing other arguments without an explicit keyword will result in an error or misinterpretation.\n",
      "  warnings.warn(\n"
     ]
    },
    {
     "data": {
      "image/png": "[encoded data removed]",
      "text/plain": [
       "<Figure size 1800x432 with 1 Axes>"
      ]
     },
     "metadata": {
      "needs_background": "light"
     },
     "output_type": "display_data"
    }
   ],
   "source": [
    "plt.figure(figsize=(25,6))\n",
    "sns.scatterplot(df['Weight'],df['Price_euros'])\n",
    "plt.xticks(rotation=90)\n",
    "plt.show()"
   ]
  },
  {
   "cell_type": "code",
   "execution_count": 35,
   "id": "247caf0f",
   "metadata": {},
   "outputs": [
    {
     "data": {
      "image/png": "[encoded data removed]",
      "text/plain": [
       "<Figure size 864x576 with 1 Axes>"
      ]
     },
     "metadata": {
      "needs_background": "light"
     },
     "output_type": "display_data"
    }
   ],
   "source": [
    "plt.figure(figsize=(12,8))\n",
    "sns.histplot(df['OpSys'])\n",
    "plt.xticks(rotation=45)\n",
    "plt.show()"
   ]
  },
  {
   "cell_type": "code",
   "execution_count": 36,
   "id": "5d5104c4",
   "metadata": {},
   "outputs": [
    {
     "name": "stderr",
     "output_type": "stream",
     "text": [
      "C:\\ProgramData\\Anaconda3\\lib\\site-packages\\seaborn\\_decorators.py:36: FutureWarning: Pass the following variables as keyword args: x, y. From version 0.12, the only valid positional argument will be `data`, and passing other arguments without an explicit keyword will result in an error or misinterpretation.\n",
      "  warnings.warn(\n"
     ]
    },
    {
     "data": {
      "image/png": "[encoded data removed]",
      "text/plain": [
       "<Figure size 1800x432 with 1 Axes>"
      ]
     },
     "metadata": {
      "needs_background": "light"
     },
     "output_type": "display_data"
    }
   ],
   "source": [
    "plt.figure(figsize=(25,6))\n",
    "sns.barplot(df['OpSys'],df['Price_euros'])\n",
    "plt.xticks(rotation=45)\n",
    "plt.show()"
   ]
  },
  {
   "cell_type": "markdown",
   "id": "7b25acfa",
   "metadata": {},
   "source": [
    "### Feature Engineering:"
   ]
  },
  {
   "cell_type": "code",
   "execution_count": 37,
   "id": "8ea13a18",
   "metadata": {},
   "outputs": [],
   "source": [
    "df.drop(columns=['Unnamed: 0'],axis=1,inplace=True)"
   ]
  },
  {
   "cell_type": "code",
   "execution_count": 38,
   "id": "2693fbc1",
   "metadata": {},
   "outputs": [
    {
     "data": {
      "text/html": [
       "<div>\n",
       "<style scoped>\n",
       "    .dataframe tbody tr th:only-of-type {\n",
       "        vertical-align: middle;\n",
       "    }\n",
       "\n",
       "    .dataframe tbody tr th {\n",
       "        vertical-align: top;\n",
       "    }\n",
       "\n",
       "    .dataframe thead th {\n",
       "        text-align: right;\n",
       "    }\n",
       "</style>\n",
       "<table border=\"1\" class=\"dataframe\">\n",
       "  <thead>\n",
       "    <tr style=\"text-align: right;\">\n",
       "      <th></th>\n",
       "      <th>Company</th>\n",
       "      <th>TypeName</th>\n",
       "      <th>Inches</th>\n",
       "      <th>Touchscreen</th>\n",
       "      <th>Ips</th>\n",
       "      <th>Cpu_Vender</th>\n",
       "      <th>Cpu_Type</th>\n",
       "      <th>Ram</th>\n",
       "      <th>Storage (GB)</th>\n",
       "      <th>Storage Type</th>\n",
       "      <th>Gpu_Vender</th>\n",
       "      <th>Gpu_Type</th>\n",
       "      <th>Weight</th>\n",
       "      <th>OpSys</th>\n",
       "      <th>Price_euros</th>\n",
       "    </tr>\n",
       "  </thead>\n",
       "  <tbody>\n",
       "    <tr>\n",
       "      <th>0</th>\n",
       "      <td>Apple</td>\n",
       "      <td>Ultrabook</td>\n",
       "      <td>13.3</td>\n",
       "      <td>0</td>\n",
       "      <td>1</td>\n",
       "      <td>Intel</td>\n",
       "      <td>Core i5</td>\n",
       "      <td>8</td>\n",
       "      <td>128</td>\n",
       "      <td>SSD</td>\n",
       "      <td>Intel</td>\n",
       "      <td>Iris Plus Graphics 640</td>\n",
       "      <td>1.37</td>\n",
       "      <td>Mac</td>\n",
       "      <td>1339.69</td>\n",
       "    </tr>\n",
       "    <tr>\n",
       "      <th>1</th>\n",
       "      <td>Apple</td>\n",
       "      <td>Ultrabook</td>\n",
       "      <td>13.3</td>\n",
       "      <td>0</td>\n",
       "      <td>0</td>\n",
       "      <td>Intel</td>\n",
       "      <td>Core i5</td>\n",
       "      <td>8</td>\n",
       "      <td>128</td>\n",
       "      <td>Flash Storage</td>\n",
       "      <td>Intel</td>\n",
       "      <td>HD Graphics 6000</td>\n",
       "      <td>1.34</td>\n",
       "      <td>Mac</td>\n",
       "      <td>898.94</td>\n",
       "    </tr>\n",
       "    <tr>\n",
       "      <th>2</th>\n",
       "      <td>HP</td>\n",
       "      <td>Notebook</td>\n",
       "      <td>15.6</td>\n",
       "      <td>0</td>\n",
       "      <td>0</td>\n",
       "      <td>Intel</td>\n",
       "      <td>Core i5</td>\n",
       "      <td>8</td>\n",
       "      <td>256</td>\n",
       "      <td>SSD</td>\n",
       "      <td>Intel</td>\n",
       "      <td>HD Graphics 620</td>\n",
       "      <td>1.86</td>\n",
       "      <td>Others/No OS/Linux</td>\n",
       "      <td>575.00</td>\n",
       "    </tr>\n",
       "    <tr>\n",
       "      <th>3</th>\n",
       "      <td>Apple</td>\n",
       "      <td>Ultrabook</td>\n",
       "      <td>15.4</td>\n",
       "      <td>0</td>\n",
       "      <td>1</td>\n",
       "      <td>Intel</td>\n",
       "      <td>Core i7</td>\n",
       "      <td>16</td>\n",
       "      <td>512</td>\n",
       "      <td>SSD</td>\n",
       "      <td>AMD</td>\n",
       "      <td>Radeon Pro 455</td>\n",
       "      <td>1.83</td>\n",
       "      <td>Mac</td>\n",
       "      <td>2537.45</td>\n",
       "    </tr>\n",
       "    <tr>\n",
       "      <th>4</th>\n",
       "      <td>Apple</td>\n",
       "      <td>Ultrabook</td>\n",
       "      <td>13.3</td>\n",
       "      <td>0</td>\n",
       "      <td>1</td>\n",
       "      <td>Intel</td>\n",
       "      <td>Core i5</td>\n",
       "      <td>8</td>\n",
       "      <td>256</td>\n",
       "      <td>SSD</td>\n",
       "      <td>Intel</td>\n",
       "      <td>Iris Plus Graphics 650</td>\n",
       "      <td>1.37</td>\n",
       "      <td>Mac</td>\n",
       "      <td>1803.60</td>\n",
       "    </tr>\n",
       "  </tbody>\n",
       "</table>\n",
       "</div>"
      ],
      "text/plain": [
       "  Company   TypeName  Inches  Touchscreen  Ips Cpu_Vender Cpu_Type  Ram  \\\n",
       "0   Apple  Ultrabook    13.3            0    1      Intel  Core i5    8   \n",
       "1   Apple  Ultrabook    13.3            0    0      Intel  Core i5    8   \n",
       "2      HP   Notebook    15.6            0    0      Intel  Core i5    8   \n",
       "3   Apple  Ultrabook    15.4            0    1      Intel  Core i7   16   \n",
       "4   Apple  Ultrabook    13.3            0    1      Intel  Core i5    8   \n",
       "\n",
       "   Storage (GB)   Storage Type Gpu_Vender                Gpu_Type  Weight  \\\n",
       "0           128            SSD      Intel  Iris Plus Graphics 640    1.37   \n",
       "1           128  Flash Storage      Intel        HD Graphics 6000    1.34   \n",
       "2           256            SSD      Intel         HD Graphics 620    1.86   \n",
       "3           512            SSD        AMD          Radeon Pro 455    1.83   \n",
       "4           256            SSD      Intel  Iris Plus Graphics 650    1.37   \n",
       "\n",
       "                OpSys  Price_euros  \n",
       "0                 Mac      1339.69  \n",
       "1                 Mac       898.94  \n",
       "2  Others/No OS/Linux       575.00  \n",
       "3                 Mac      2537.45  \n",
       "4                 Mac      1803.60  "
      ]
     },
     "execution_count": 38,
     "metadata": {},
     "output_type": "execute_result"
    }
   ],
   "source": [
    "df.head()"
   ]
  },
  {
   "cell_type": "code",
   "execution_count": 39,
   "id": "c65c3776",
   "metadata": {},
   "outputs": [],
   "source": [
    "df['Touchscreen']=df['Touchscreen'].replace({0:'No',1:'Yes'})"
   ]
  },
  {
   "cell_type": "code",
   "execution_count": 40,
   "id": "34a648b4",
   "metadata": {},
   "outputs": [],
   "source": [
    "df['Ips']=df['Ips'].replace({0:'No',1:'Yes'})"
   ]
  },
  {
   "cell_type": "code",
   "execution_count": 41,
   "id": "cd9dcfc4",
   "metadata": {},
   "outputs": [
    {
     "data": {
      "text/html": [
       "<div>\n",
       "<style scoped>\n",
       "    .dataframe tbody tr th:only-of-type {\n",
       "        vertical-align: middle;\n",
       "    }\n",
       "\n",
       "    .dataframe tbody tr th {\n",
       "        vertical-align: top;\n",
       "    }\n",
       "\n",
       "    .dataframe thead th {\n",
       "        text-align: right;\n",
       "    }\n",
       "</style>\n",
       "<table border=\"1\" class=\"dataframe\">\n",
       "  <thead>\n",
       "    <tr style=\"text-align: right;\">\n",
       "      <th></th>\n",
       "      <th>Company</th>\n",
       "      <th>TypeName</th>\n",
       "      <th>Inches</th>\n",
       "      <th>Touchscreen</th>\n",
       "      <th>Ips</th>\n",
       "      <th>Cpu_Vender</th>\n",
       "      <th>Cpu_Type</th>\n",
       "      <th>Ram</th>\n",
       "      <th>Storage (GB)</th>\n",
       "      <th>Storage Type</th>\n",
       "      <th>Gpu_Vender</th>\n",
       "      <th>Gpu_Type</th>\n",
       "      <th>Weight</th>\n",
       "      <th>OpSys</th>\n",
       "      <th>Price_euros</th>\n",
       "    </tr>\n",
       "  </thead>\n",
       "  <tbody>\n",
       "    <tr>\n",
       "      <th>0</th>\n",
       "      <td>Apple</td>\n",
       "      <td>Ultrabook</td>\n",
       "      <td>13.3</td>\n",
       "      <td>No</td>\n",
       "      <td>Yes</td>\n",
       "      <td>Intel</td>\n",
       "      <td>Core i5</td>\n",
       "      <td>8</td>\n",
       "      <td>128</td>\n",
       "      <td>SSD</td>\n",
       "      <td>Intel</td>\n",
       "      <td>Iris Plus Graphics 640</td>\n",
       "      <td>1.37</td>\n",
       "      <td>Mac</td>\n",
       "      <td>1339.69</td>\n",
       "    </tr>\n",
       "    <tr>\n",
       "      <th>1</th>\n",
       "      <td>Apple</td>\n",
       "      <td>Ultrabook</td>\n",
       "      <td>13.3</td>\n",
       "      <td>No</td>\n",
       "      <td>No</td>\n",
       "      <td>Intel</td>\n",
       "      <td>Core i5</td>\n",
       "      <td>8</td>\n",
       "      <td>128</td>\n",
       "      <td>Flash Storage</td>\n",
       "      <td>Intel</td>\n",
       "      <td>HD Graphics 6000</td>\n",
       "      <td>1.34</td>\n",
       "      <td>Mac</td>\n",
       "      <td>898.94</td>\n",
       "    </tr>\n",
       "    <tr>\n",
       "      <th>2</th>\n",
       "      <td>HP</td>\n",
       "      <td>Notebook</td>\n",
       "      <td>15.6</td>\n",
       "      <td>No</td>\n",
       "      <td>No</td>\n",
       "      <td>Intel</td>\n",
       "      <td>Core i5</td>\n",
       "      <td>8</td>\n",
       "      <td>256</td>\n",
       "      <td>SSD</td>\n",
       "      <td>Intel</td>\n",
       "      <td>HD Graphics 620</td>\n",
       "      <td>1.86</td>\n",
       "      <td>Others/No OS/Linux</td>\n",
       "      <td>575.00</td>\n",
       "    </tr>\n",
       "    <tr>\n",
       "      <th>3</th>\n",
       "      <td>Apple</td>\n",
       "      <td>Ultrabook</td>\n",
       "      <td>15.4</td>\n",
       "      <td>No</td>\n",
       "      <td>Yes</td>\n",
       "      <td>Intel</td>\n",
       "      <td>Core i7</td>\n",
       "      <td>16</td>\n",
       "      <td>512</td>\n",
       "      <td>SSD</td>\n",
       "      <td>AMD</td>\n",
       "      <td>Radeon Pro 455</td>\n",
       "      <td>1.83</td>\n",
       "      <td>Mac</td>\n",
       "      <td>2537.45</td>\n",
       "    </tr>\n",
       "    <tr>\n",
       "      <th>4</th>\n",
       "      <td>Apple</td>\n",
       "      <td>Ultrabook</td>\n",
       "      <td>13.3</td>\n",
       "      <td>No</td>\n",
       "      <td>Yes</td>\n",
       "      <td>Intel</td>\n",
       "      <td>Core i5</td>\n",
       "      <td>8</td>\n",
       "      <td>256</td>\n",
       "      <td>SSD</td>\n",
       "      <td>Intel</td>\n",
       "      <td>Iris Plus Graphics 650</td>\n",
       "      <td>1.37</td>\n",
       "      <td>Mac</td>\n",
       "      <td>1803.60</td>\n",
       "    </tr>\n",
       "  </tbody>\n",
       "</table>\n",
       "</div>"
      ],
      "text/plain": [
       "  Company   TypeName  Inches Touchscreen  Ips Cpu_Vender Cpu_Type  Ram  \\\n",
       "0   Apple  Ultrabook    13.3          No  Yes      Intel  Core i5    8   \n",
       "1   Apple  Ultrabook    13.3          No   No      Intel  Core i5    8   \n",
       "2      HP   Notebook    15.6          No   No      Intel  Core i5    8   \n",
       "3   Apple  Ultrabook    15.4          No  Yes      Intel  Core i7   16   \n",
       "4   Apple  Ultrabook    13.3          No  Yes      Intel  Core i5    8   \n",
       "\n",
       "   Storage (GB)   Storage Type Gpu_Vender                Gpu_Type  Weight  \\\n",
       "0           128            SSD      Intel  Iris Plus Graphics 640    1.37   \n",
       "1           128  Flash Storage      Intel        HD Graphics 6000    1.34   \n",
       "2           256            SSD      Intel         HD Graphics 620    1.86   \n",
       "3           512            SSD        AMD          Radeon Pro 455    1.83   \n",
       "4           256            SSD      Intel  Iris Plus Graphics 650    1.37   \n",
       "\n",
       "                OpSys  Price_euros  \n",
       "0                 Mac      1339.69  \n",
       "1                 Mac       898.94  \n",
       "2  Others/No OS/Linux       575.00  \n",
       "3                 Mac      2537.45  \n",
       "4                 Mac      1803.60  "
      ]
     },
     "execution_count": 41,
     "metadata": {},
     "output_type": "execute_result"
    }
   ],
   "source": [
    "df.head()"
   ]
  },
  {
   "cell_type": "code",
   "execution_count": 42,
   "id": "2ebc2bb8",
   "metadata": {},
   "outputs": [
    {
     "data": {
      "text/plain": [
       "Dell         297\n",
       "Lenovo       297\n",
       "HP           274\n",
       "Asus         158\n",
       "Acer         103\n",
       "MSI           54\n",
       "Toshiba       48\n",
       "Apple         21\n",
       "Samsung        9\n",
       "Razer          7\n",
       "Mediacom       7\n",
       "Microsoft      6\n",
       "Xiaomi         4\n",
       "Vero           4\n",
       "Chuwi          3\n",
       "Google         3\n",
       "Fujitsu        3\n",
       "LG             3\n",
       "Huawei         2\n",
       "Name: Company, dtype: int64"
      ]
     },
     "execution_count": 42,
     "metadata": {},
     "output_type": "execute_result"
    }
   ],
   "source": [
    "df['Company'].value_counts()"
   ]
  },
  {
   "cell_type": "code",
   "execution_count": 43,
   "id": "8db6e211",
   "metadata": {},
   "outputs": [
    {
     "data": {
      "text/plain": [
       "Notebook              727\n",
       "Gaming                205\n",
       "Ultrabook             196\n",
       "2 in 1 Convertible    121\n",
       "Workstation            29\n",
       "Netbook                25\n",
       "Name: TypeName, dtype: int64"
      ]
     },
     "execution_count": 43,
     "metadata": {},
     "output_type": "execute_result"
    }
   ],
   "source": [
    "df['TypeName'].value_counts()"
   ]
  },
  {
   "cell_type": "code",
   "execution_count": 44,
   "id": "f4af08ec",
   "metadata": {},
   "outputs": [
    {
     "data": {
      "text/plain": [
       "Intel      1240\n",
       "AMD          62\n",
       "Samsung       1\n",
       "Name: Cpu_Vender, dtype: int64"
      ]
     },
     "execution_count": 44,
     "metadata": {},
     "output_type": "execute_result"
    }
   ],
   "source": [
    "df['Cpu_Vender'].value_counts()"
   ]
  },
  {
   "cell_type": "code",
   "execution_count": 45,
   "id": "0f41a1a2",
   "metadata": {},
   "outputs": [
    {
     "data": {
      "text/plain": [
       "Core i7                 527\n",
       "Core i5                 423\n",
       "Core i3                 136\n",
       "Celeron Dual Core        80\n",
       "I n t e l                47\n",
       "Core M                   19\n",
       "A9-Series 9420           12\n",
       "Celeron Quad Core         8\n",
       "A6-Series 9220            8\n",
       "A12-Series 9720P          7\n",
       "A8-Series 7410            4\n",
       "A9-Series 9410            3\n",
       "Ryzen 1700                3\n",
       "E-Series 7110             2\n",
       "A9-Series A9-9420         2\n",
       "A10-Series 9620P          2\n",
       "E-Series E2-9000e         2\n",
       "A10-Series 9600P          2\n",
       "A6-Series A6-9220         2\n",
       "A10-Series A10-9620P      2\n",
       "E-Series E2-6110          1\n",
       "FX 9830P                  1\n",
       "Ryzen 1600                1\n",
       "E-Series 9000e            1\n",
       "E-Series E2-9000          1\n",
       "A6-Series 7310            1\n",
       "A12-Series 9700P          1\n",
       "A4-Series 7210            1\n",
       "FX 8800P                  1\n",
       "S a m s u n g             1\n",
       "E-Series 9000             1\n",
       "E-Series 6110             1\n",
       "Name: Cpu_Type, dtype: int64"
      ]
     },
     "execution_count": 45,
     "metadata": {},
     "output_type": "execute_result"
    }
   ],
   "source": [
    "df['Cpu_Type'].value_counts()"
   ]
  },
  {
   "cell_type": "code",
   "execution_count": 46,
   "id": "80fef28f",
   "metadata": {},
   "outputs": [
    {
     "data": {
      "text/plain": [
       "8     619\n",
       "4     375\n",
       "16    200\n",
       "6      41\n",
       "12     25\n",
       "2      22\n",
       "32     17\n",
       "24      3\n",
       "64      1\n",
       "Name: Ram, dtype: int64"
      ]
     },
     "execution_count": 46,
     "metadata": {},
     "output_type": "execute_result"
    }
   ],
   "source": [
    "df['Ram'].value_counts()"
   ]
  },
  {
   "cell_type": "code",
   "execution_count": 47,
   "id": "272c0ac1",
   "metadata": {},
   "outputs": [
    {
     "data": {
      "text/plain": [
       "256     508\n",
       "1024    250\n",
       "128     177\n",
       "512     140\n",
       "500     132\n",
       "32       45\n",
       "64       17\n",
       "2048     16\n",
       "16       10\n",
       "180       5\n",
       "240       1\n",
       "8         1\n",
       "508       1\n",
       "Name: Storage (GB), dtype: int64"
      ]
     },
     "execution_count": 47,
     "metadata": {},
     "output_type": "execute_result"
    }
   ],
   "source": [
    "df['Storage (GB)'].value_counts()"
   ]
  },
  {
   "cell_type": "code",
   "execution_count": 48,
   "id": "ae262b52",
   "metadata": {},
   "outputs": [
    {
     "data": {
      "text/plain": [
       "SSD                         637\n",
       "HDD                         374\n",
       "SSD +  1TB HDD              183\n",
       "Flash Storage                74\n",
       "SSD +  2TB HDD               15\n",
       "Hybrid                       10\n",
       "SSD +  256GB SSD              3\n",
       "SSD +  500GB HDD              2\n",
       "SSD +  1.0TB Hybrid           2\n",
       "SSD +  512GB SSD              1\n",
       "Flash Storage +  1TB HDD      1\n",
       "HDD +  1TB HDD                1\n",
       "Name: Storage Type, dtype: int64"
      ]
     },
     "execution_count": 48,
     "metadata": {},
     "output_type": "execute_result"
    }
   ],
   "source": [
    "df['Storage Type'].value_counts()"
   ]
  },
  {
   "cell_type": "code",
   "execution_count": 49,
   "id": "c5e44f33",
   "metadata": {},
   "outputs": [
    {
     "data": {
      "text/plain": [
       "Intel     722\n",
       "Nvidia    400\n",
       "AMD       180\n",
       "ARM         1\n",
       "Name: Gpu_Vender, dtype: int64"
      ]
     },
     "execution_count": 49,
     "metadata": {},
     "output_type": "execute_result"
    }
   ],
   "source": [
    "df['Gpu_Vender'].value_counts()"
   ]
  },
  {
   "cell_type": "code",
   "execution_count": 50,
   "id": "3be575c6",
   "metadata": {},
   "outputs": [
    {
     "data": {
      "text/plain": [
       "HD Graphics 620     281\n",
       "HD Graphics 520     185\n",
       "UHD Graphics 620     68\n",
       "GeForce GTX 1050     66\n",
       "GeForce GTX 1060     48\n",
       "                   ... \n",
       "Radeon R5 520         1\n",
       "Radeon R7             1\n",
       "HD Graphics 540       1\n",
       "Radeon 540            1\n",
       "Mali T860 MP4         1\n",
       "Name: Gpu_Type, Length: 110, dtype: int64"
      ]
     },
     "execution_count": 50,
     "metadata": {},
     "output_type": "execute_result"
    }
   ],
   "source": [
    "df['Gpu_Type'].value_counts()"
   ]
  },
  {
   "cell_type": "code",
   "execution_count": 51,
   "id": "3a95500f",
   "metadata": {},
   "outputs": [
    {
     "data": {
      "text/plain": [
       "HD Graphics 620     281\n",
       "HD Graphics 520     185\n",
       "UHD Graphics 620     68\n",
       "GeForce GTX 1050     66\n",
       "GeForce GTX 1060     48\n",
       "                   ... \n",
       "Radeon R5 520         1\n",
       "Radeon R7             1\n",
       "HD Graphics 540       1\n",
       "Radeon 540            1\n",
       "Mali T860 MP4         1\n",
       "Name: Gpu_Type, Length: 110, dtype: int64"
      ]
     },
     "execution_count": 51,
     "metadata": {},
     "output_type": "execute_result"
    }
   ],
   "source": [
    "df['Gpu_Type'].value_counts()"
   ]
  },
  {
   "cell_type": "code",
   "execution_count": 52,
   "id": "705de898",
   "metadata": {},
   "outputs": [
    {
     "data": {
      "text/plain": [
       "Windows               1125\n",
       "Others/No OS/Linux     157\n",
       "Mac                     21\n",
       "Name: OpSys, dtype: int64"
      ]
     },
     "execution_count": 52,
     "metadata": {},
     "output_type": "execute_result"
    }
   ],
   "source": [
    "df['OpSys'].value_counts()"
   ]
  },
  {
   "cell_type": "markdown",
   "id": "e8af2512",
   "metadata": {},
   "source": [
    "### Libraries Importing, Data Scaling, Data Transformation, Pipe line creation, Model Building.."
   ]
  },
  {
   "cell_type": "code",
   "execution_count": 53,
   "id": "0a8e7b74",
   "metadata": {},
   "outputs": [
    {
     "data": {
      "text/html": [
       "<div>\n",
       "<style scoped>\n",
       "    .dataframe tbody tr th:only-of-type {\n",
       "        vertical-align: middle;\n",
       "    }\n",
       "\n",
       "    .dataframe tbody tr th {\n",
       "        vertical-align: top;\n",
       "    }\n",
       "\n",
       "    .dataframe thead th {\n",
       "        text-align: right;\n",
       "    }\n",
       "</style>\n",
       "<table border=\"1\" class=\"dataframe\">\n",
       "  <thead>\n",
       "    <tr style=\"text-align: right;\">\n",
       "      <th></th>\n",
       "      <th>Company</th>\n",
       "      <th>TypeName</th>\n",
       "      <th>Inches</th>\n",
       "      <th>Touchscreen</th>\n",
       "      <th>Ips</th>\n",
       "      <th>Cpu_Vender</th>\n",
       "      <th>Cpu_Type</th>\n",
       "      <th>Ram</th>\n",
       "      <th>Storage (GB)</th>\n",
       "      <th>Storage Type</th>\n",
       "      <th>Gpu_Vender</th>\n",
       "      <th>Gpu_Type</th>\n",
       "      <th>Weight</th>\n",
       "      <th>OpSys</th>\n",
       "      <th>Price_euros</th>\n",
       "    </tr>\n",
       "  </thead>\n",
       "  <tbody>\n",
       "    <tr>\n",
       "      <th>0</th>\n",
       "      <td>Apple</td>\n",
       "      <td>Ultrabook</td>\n",
       "      <td>13.3</td>\n",
       "      <td>No</td>\n",
       "      <td>Yes</td>\n",
       "      <td>Intel</td>\n",
       "      <td>Core i5</td>\n",
       "      <td>8</td>\n",
       "      <td>128</td>\n",
       "      <td>SSD</td>\n",
       "      <td>Intel</td>\n",
       "      <td>Iris Plus Graphics 640</td>\n",
       "      <td>1.37</td>\n",
       "      <td>Mac</td>\n",
       "      <td>1339.69</td>\n",
       "    </tr>\n",
       "    <tr>\n",
       "      <th>1</th>\n",
       "      <td>Apple</td>\n",
       "      <td>Ultrabook</td>\n",
       "      <td>13.3</td>\n",
       "      <td>No</td>\n",
       "      <td>No</td>\n",
       "      <td>Intel</td>\n",
       "      <td>Core i5</td>\n",
       "      <td>8</td>\n",
       "      <td>128</td>\n",
       "      <td>Flash Storage</td>\n",
       "      <td>Intel</td>\n",
       "      <td>HD Graphics 6000</td>\n",
       "      <td>1.34</td>\n",
       "      <td>Mac</td>\n",
       "      <td>898.94</td>\n",
       "    </tr>\n",
       "    <tr>\n",
       "      <th>2</th>\n",
       "      <td>HP</td>\n",
       "      <td>Notebook</td>\n",
       "      <td>15.6</td>\n",
       "      <td>No</td>\n",
       "      <td>No</td>\n",
       "      <td>Intel</td>\n",
       "      <td>Core i5</td>\n",
       "      <td>8</td>\n",
       "      <td>256</td>\n",
       "      <td>SSD</td>\n",
       "      <td>Intel</td>\n",
       "      <td>HD Graphics 620</td>\n",
       "      <td>1.86</td>\n",
       "      <td>Others/No OS/Linux</td>\n",
       "      <td>575.00</td>\n",
       "    </tr>\n",
       "    <tr>\n",
       "      <th>3</th>\n",
       "      <td>Apple</td>\n",
       "      <td>Ultrabook</td>\n",
       "      <td>15.4</td>\n",
       "      <td>No</td>\n",
       "      <td>Yes</td>\n",
       "      <td>Intel</td>\n",
       "      <td>Core i7</td>\n",
       "      <td>16</td>\n",
       "      <td>512</td>\n",
       "      <td>SSD</td>\n",
       "      <td>AMD</td>\n",
       "      <td>Radeon Pro 455</td>\n",
       "      <td>1.83</td>\n",
       "      <td>Mac</td>\n",
       "      <td>2537.45</td>\n",
       "    </tr>\n",
       "    <tr>\n",
       "      <th>4</th>\n",
       "      <td>Apple</td>\n",
       "      <td>Ultrabook</td>\n",
       "      <td>13.3</td>\n",
       "      <td>No</td>\n",
       "      <td>Yes</td>\n",
       "      <td>Intel</td>\n",
       "      <td>Core i5</td>\n",
       "      <td>8</td>\n",
       "      <td>256</td>\n",
       "      <td>SSD</td>\n",
       "      <td>Intel</td>\n",
       "      <td>Iris Plus Graphics 650</td>\n",
       "      <td>1.37</td>\n",
       "      <td>Mac</td>\n",
       "      <td>1803.60</td>\n",
       "    </tr>\n",
       "  </tbody>\n",
       "</table>\n",
       "</div>"
      ],
      "text/plain": [
       "  Company   TypeName  Inches Touchscreen  Ips Cpu_Vender Cpu_Type  Ram  \\\n",
       "0   Apple  Ultrabook    13.3          No  Yes      Intel  Core i5    8   \n",
       "1   Apple  Ultrabook    13.3          No   No      Intel  Core i5    8   \n",
       "2      HP   Notebook    15.6          No   No      Intel  Core i5    8   \n",
       "3   Apple  Ultrabook    15.4          No  Yes      Intel  Core i7   16   \n",
       "4   Apple  Ultrabook    13.3          No  Yes      Intel  Core i5    8   \n",
       "\n",
       "   Storage (GB)   Storage Type Gpu_Vender                Gpu_Type  Weight  \\\n",
       "0           128            SSD      Intel  Iris Plus Graphics 640    1.37   \n",
       "1           128  Flash Storage      Intel        HD Graphics 6000    1.34   \n",
       "2           256            SSD      Intel         HD Graphics 620    1.86   \n",
       "3           512            SSD        AMD          Radeon Pro 455    1.83   \n",
       "4           256            SSD      Intel  Iris Plus Graphics 650    1.37   \n",
       "\n",
       "                OpSys  Price_euros  \n",
       "0                 Mac      1339.69  \n",
       "1                 Mac       898.94  \n",
       "2  Others/No OS/Linux       575.00  \n",
       "3                 Mac      2537.45  \n",
       "4                 Mac      1803.60  "
      ]
     },
     "execution_count": 53,
     "metadata": {},
     "output_type": "execute_result"
    }
   ],
   "source": [
    "df.head()"
   ]
  },
  {
   "cell_type": "code",
   "execution_count": 54,
   "id": "6bfb4073",
   "metadata": {},
   "outputs": [],
   "source": [
    "df['Price']=df['Price_euros']*86.30"
   ]
  },
  {
   "cell_type": "code",
   "execution_count": 55,
   "id": "49769208",
   "metadata": {},
   "outputs": [],
   "source": [
    "df.drop(columns=['Price_euros'],axis=1,inplace=True)"
   ]
  },
  {
   "cell_type": "code",
   "execution_count": 56,
   "id": "70c39358",
   "metadata": {},
   "outputs": [
    {
     "data": {
      "text/html": [
       "<div>\n",
       "<style scoped>\n",
       "    .dataframe tbody tr th:only-of-type {\n",
       "        vertical-align: middle;\n",
       "    }\n",
       "\n",
       "    .dataframe tbody tr th {\n",
       "        vertical-align: top;\n",
       "    }\n",
       "\n",
       "    .dataframe thead th {\n",
       "        text-align: right;\n",
       "    }\n",
       "</style>\n",
       "<table border=\"1\" class=\"dataframe\">\n",
       "  <thead>\n",
       "    <tr style=\"text-align: right;\">\n",
       "      <th></th>\n",
       "      <th>Company</th>\n",
       "      <th>TypeName</th>\n",
       "      <th>Inches</th>\n",
       "      <th>Touchscreen</th>\n",
       "      <th>Ips</th>\n",
       "      <th>Cpu_Vender</th>\n",
       "      <th>Cpu_Type</th>\n",
       "      <th>Ram</th>\n",
       "      <th>Storage (GB)</th>\n",
       "      <th>Storage Type</th>\n",
       "      <th>Gpu_Vender</th>\n",
       "      <th>Gpu_Type</th>\n",
       "      <th>Weight</th>\n",
       "      <th>OpSys</th>\n",
       "      <th>Price</th>\n",
       "    </tr>\n",
       "  </thead>\n",
       "  <tbody>\n",
       "    <tr>\n",
       "      <th>0</th>\n",
       "      <td>Apple</td>\n",
       "      <td>Ultrabook</td>\n",
       "      <td>13.3</td>\n",
       "      <td>No</td>\n",
       "      <td>Yes</td>\n",
       "      <td>Intel</td>\n",
       "      <td>Core i5</td>\n",
       "      <td>8</td>\n",
       "      <td>128</td>\n",
       "      <td>SSD</td>\n",
       "      <td>Intel</td>\n",
       "      <td>Iris Plus Graphics 640</td>\n",
       "      <td>1.37</td>\n",
       "      <td>Mac</td>\n",
       "      <td>115615.247</td>\n",
       "    </tr>\n",
       "    <tr>\n",
       "      <th>1</th>\n",
       "      <td>Apple</td>\n",
       "      <td>Ultrabook</td>\n",
       "      <td>13.3</td>\n",
       "      <td>No</td>\n",
       "      <td>No</td>\n",
       "      <td>Intel</td>\n",
       "      <td>Core i5</td>\n",
       "      <td>8</td>\n",
       "      <td>128</td>\n",
       "      <td>Flash Storage</td>\n",
       "      <td>Intel</td>\n",
       "      <td>HD Graphics 6000</td>\n",
       "      <td>1.34</td>\n",
       "      <td>Mac</td>\n",
       "      <td>77578.522</td>\n",
       "    </tr>\n",
       "    <tr>\n",
       "      <th>2</th>\n",
       "      <td>HP</td>\n",
       "      <td>Notebook</td>\n",
       "      <td>15.6</td>\n",
       "      <td>No</td>\n",
       "      <td>No</td>\n",
       "      <td>Intel</td>\n",
       "      <td>Core i5</td>\n",
       "      <td>8</td>\n",
       "      <td>256</td>\n",
       "      <td>SSD</td>\n",
       "      <td>Intel</td>\n",
       "      <td>HD Graphics 620</td>\n",
       "      <td>1.86</td>\n",
       "      <td>Others/No OS/Linux</td>\n",
       "      <td>49622.500</td>\n",
       "    </tr>\n",
       "    <tr>\n",
       "      <th>3</th>\n",
       "      <td>Apple</td>\n",
       "      <td>Ultrabook</td>\n",
       "      <td>15.4</td>\n",
       "      <td>No</td>\n",
       "      <td>Yes</td>\n",
       "      <td>Intel</td>\n",
       "      <td>Core i7</td>\n",
       "      <td>16</td>\n",
       "      <td>512</td>\n",
       "      <td>SSD</td>\n",
       "      <td>AMD</td>\n",
       "      <td>Radeon Pro 455</td>\n",
       "      <td>1.83</td>\n",
       "      <td>Mac</td>\n",
       "      <td>218981.935</td>\n",
       "    </tr>\n",
       "    <tr>\n",
       "      <th>4</th>\n",
       "      <td>Apple</td>\n",
       "      <td>Ultrabook</td>\n",
       "      <td>13.3</td>\n",
       "      <td>No</td>\n",
       "      <td>Yes</td>\n",
       "      <td>Intel</td>\n",
       "      <td>Core i5</td>\n",
       "      <td>8</td>\n",
       "      <td>256</td>\n",
       "      <td>SSD</td>\n",
       "      <td>Intel</td>\n",
       "      <td>Iris Plus Graphics 650</td>\n",
       "      <td>1.37</td>\n",
       "      <td>Mac</td>\n",
       "      <td>155650.680</td>\n",
       "    </tr>\n",
       "  </tbody>\n",
       "</table>\n",
       "</div>"
      ],
      "text/plain": [
       "  Company   TypeName  Inches Touchscreen  Ips Cpu_Vender Cpu_Type  Ram  \\\n",
       "0   Apple  Ultrabook    13.3          No  Yes      Intel  Core i5    8   \n",
       "1   Apple  Ultrabook    13.3          No   No      Intel  Core i5    8   \n",
       "2      HP   Notebook    15.6          No   No      Intel  Core i5    8   \n",
       "3   Apple  Ultrabook    15.4          No  Yes      Intel  Core i7   16   \n",
       "4   Apple  Ultrabook    13.3          No  Yes      Intel  Core i5    8   \n",
       "\n",
       "   Storage (GB)   Storage Type Gpu_Vender                Gpu_Type  Weight  \\\n",
       "0           128            SSD      Intel  Iris Plus Graphics 640    1.37   \n",
       "1           128  Flash Storage      Intel        HD Graphics 6000    1.34   \n",
       "2           256            SSD      Intel         HD Graphics 620    1.86   \n",
       "3           512            SSD        AMD          Radeon Pro 455    1.83   \n",
       "4           256            SSD      Intel  Iris Plus Graphics 650    1.37   \n",
       "\n",
       "                OpSys       Price  \n",
       "0                 Mac  115615.247  \n",
       "1                 Mac   77578.522  \n",
       "2  Others/No OS/Linux   49622.500  \n",
       "3                 Mac  218981.935  \n",
       "4                 Mac  155650.680  "
      ]
     },
     "execution_count": 56,
     "metadata": {},
     "output_type": "execute_result"
    }
   ],
   "source": [
    "df.head()"
   ]
  },
  {
   "cell_type": "code",
   "execution_count": 57,
   "id": "3f7fe4ac",
   "metadata": {},
   "outputs": [
    {
     "data": {
      "text/plain": [
       "Index(['Samsung', 'Razer', 'Mediacom', 'Microsoft', 'Xiaomi', 'Vero', 'Chuwi',\n",
       "       'Google', 'Fujitsu', 'LG', 'Huawei'],\n",
       "      dtype='object')"
      ]
     },
     "execution_count": 57,
     "metadata": {},
     "output_type": "execute_result"
    }
   ],
   "source": [
    "df['Company'].value_counts()[df['Company'].value_counts()<20].index"
   ]
  },
  {
   "cell_type": "code",
   "execution_count": 58,
   "id": "cddaabcd",
   "metadata": {},
   "outputs": [],
   "source": [
    "company_list=['Samsung', 'Razer', 'Mediacom', 'Microsoft', 'Xiaomi', 'Vero', 'Chuwi','Google', 'Fujitsu', 'LG', 'Huawei']"
   ]
  },
  {
   "cell_type": "code",
   "execution_count": 59,
   "id": "1eab041b",
   "metadata": {},
   "outputs": [],
   "source": [
    "def data_extractor():\n",
    "    if i in company_list:\n",
    "        return 'Other'\n",
    "    else:\n",
    "        return i"
   ]
  },
  {
   "cell_type": "code",
   "execution_count": 60,
   "id": "6bdd2fbb",
   "metadata": {},
   "outputs": [],
   "source": [
    "df['Company']=df['Company'].apply(lambda a : 'Others' if a in company_list else a)"
   ]
  },
  {
   "cell_type": "code",
   "execution_count": 61,
   "id": "901c0a98",
   "metadata": {},
   "outputs": [
    {
     "data": {
      "text/plain": [
       "Dell       297\n",
       "Lenovo     297\n",
       "HP         274\n",
       "Asus       158\n",
       "Acer       103\n",
       "MSI         54\n",
       "Others      51\n",
       "Toshiba     48\n",
       "Apple       21\n",
       "Name: Company, dtype: int64"
      ]
     },
     "execution_count": 61,
     "metadata": {},
     "output_type": "execute_result"
    }
   ],
   "source": [
    "df['Company'].value_counts()"
   ]
  },
  {
   "cell_type": "code",
   "execution_count": 62,
   "id": "eb2be276",
   "metadata": {},
   "outputs": [
    {
     "data": {
      "text/plain": [
       "Intel      1240\n",
       "AMD          62\n",
       "Samsung       1\n",
       "Name: Cpu_Vender, dtype: int64"
      ]
     },
     "execution_count": 62,
     "metadata": {},
     "output_type": "execute_result"
    }
   ],
   "source": [
    "df['Cpu_Vender'].value_counts()"
   ]
  },
  {
   "cell_type": "code",
   "execution_count": 63,
   "id": "fd8da899",
   "metadata": {},
   "outputs": [],
   "source": [
    "df=df[df['Cpu_Vender']!='Samsung']"
   ]
  },
  {
   "cell_type": "code",
   "execution_count": 64,
   "id": "99ad0511",
   "metadata": {},
   "outputs": [
    {
     "data": {
      "text/plain": [
       "Intel    1240\n",
       "AMD        62\n",
       "Name: Cpu_Vender, dtype: int64"
      ]
     },
     "execution_count": 64,
     "metadata": {},
     "output_type": "execute_result"
    }
   ],
   "source": [
    "df['Cpu_Vender'].value_counts()"
   ]
  },
  {
   "cell_type": "code",
   "execution_count": 65,
   "id": "199e30fa",
   "metadata": {},
   "outputs": [
    {
     "data": {
      "text/plain": [
       "Index(['A8-Series 7410', 'A9-Series 9410', 'Ryzen 1700', 'A10-Series 9620P',\n",
       "       'A9-Series A9-9420', 'E-Series 7110', 'E-Series E2-9000e',\n",
       "       'A6-Series A6-9220', 'A10-Series 9600P', 'A10-Series A10-9620P',\n",
       "       'E-Series E2-6110', 'Ryzen 1600', 'E-Series 9000e', 'FX 9830P',\n",
       "       'E-Series E2-9000', 'A6-Series 7310', 'A12-Series 9700P',\n",
       "       'A4-Series 7210', 'FX 8800P', 'E-Series 9000', 'E-Series 6110'],\n",
       "      dtype='object')"
      ]
     },
     "execution_count": 65,
     "metadata": {},
     "output_type": "execute_result"
    }
   ],
   "source": [
    "df['Cpu_Type'].value_counts()[df['Cpu_Type'].value_counts()<7].index"
   ]
  },
  {
   "cell_type": "code",
   "execution_count": 66,
   "id": "b572823f",
   "metadata": {},
   "outputs": [],
   "source": [
    "cpu_type=['A8-Series 7410', 'A9-Series 9410', 'Ryzen 1700', 'A10-Series 9620P',\n",
    "       'A9-Series A9-9420', 'E-Series 7110', 'E-Series E2-9000e',\n",
    "       'A6-Series A6-9220', 'A10-Series 9600P', 'A10-Series A10-9620P',\n",
    "       'E-Series E2-6110', 'Ryzen 1600', 'E-Series 9000e', 'FX 9830P',\n",
    "       'E-Series E2-9000', 'A6-Series 7310', 'A12-Series 9700P',\n",
    "       'A4-Series 7210', 'FX 8800P', 'E-Series 9000', 'E-Series 6110']"
   ]
  },
  {
   "cell_type": "code",
   "execution_count": 67,
   "id": "36c0ab8a",
   "metadata": {},
   "outputs": [],
   "source": [
    "df['Cpu_Type']=df['Cpu_Type'].apply(lambda a: 'Others' if a in cpu_type else a)"
   ]
  },
  {
   "cell_type": "code",
   "execution_count": 68,
   "id": "a2f44ff4",
   "metadata": {},
   "outputs": [
    {
     "data": {
      "text/plain": [
       "Core i7              527\n",
       "Core i5              423\n",
       "Core i3              136\n",
       "Celeron Dual Core     80\n",
       "I n t e l             47\n",
       "Others                35\n",
       "Core M                19\n",
       "A9-Series 9420        12\n",
       "A6-Series 9220         8\n",
       "Celeron Quad Core      8\n",
       "A12-Series 9720P       7\n",
       "Name: Cpu_Type, dtype: int64"
      ]
     },
     "execution_count": 68,
     "metadata": {},
     "output_type": "execute_result"
    }
   ],
   "source": [
    "df['Cpu_Type'].value_counts()"
   ]
  },
  {
   "cell_type": "code",
   "execution_count": 69,
   "id": "a4201964",
   "metadata": {},
   "outputs": [
    {
     "data": {
      "text/plain": [
       "SSD                         637\n",
       "HDD                         374\n",
       "SSD +  1TB HDD              183\n",
       "Flash Storage                73\n",
       "SSD +  2TB HDD               15\n",
       "Hybrid                       10\n",
       "SSD +  256GB SSD              3\n",
       "SSD +  500GB HDD              2\n",
       "SSD +  1.0TB Hybrid           2\n",
       "SSD +  512GB SSD              1\n",
       "Flash Storage +  1TB HDD      1\n",
       "HDD +  1TB HDD                1\n",
       "Name: Storage Type, dtype: int64"
      ]
     },
     "execution_count": 69,
     "metadata": {},
     "output_type": "execute_result"
    }
   ],
   "source": [
    "df['Storage Type'].value_counts()"
   ]
  },
  {
   "cell_type": "code",
   "execution_count": 70,
   "id": "41dec7c4",
   "metadata": {},
   "outputs": [
    {
     "data": {
      "text/plain": [
       "Index(['SSD +  256GB SSD', 'SSD +  500GB HDD', 'SSD +  1.0TB Hybrid',\n",
       "       'SSD +  512GB SSD', 'Flash Storage +  1TB HDD', 'HDD +  1TB HDD'],\n",
       "      dtype='object')"
      ]
     },
     "execution_count": 70,
     "metadata": {},
     "output_type": "execute_result"
    }
   ],
   "source": [
    "df['Storage Type'].value_counts()[df['Storage Type'].value_counts()<10].index"
   ]
  },
  {
   "cell_type": "code",
   "execution_count": 71,
   "id": "fe2ba4ba",
   "metadata": {},
   "outputs": [],
   "source": [
    "storage_type=['SSD +  256GB SSD', 'SSD +  500GB HDD', 'SSD +  1.0TB Hybrid',\n",
    "       'SSD +  512GB SSD', 'Flash Storage +  1TB HDD', 'HDD +  1TB HDD']"
   ]
  },
  {
   "cell_type": "code",
   "execution_count": 72,
   "id": "8583b334",
   "metadata": {},
   "outputs": [],
   "source": [
    "df['Storage Type']=df['Storage Type'].apply(lambda a: 'Others' if a in storage_type else a)"
   ]
  },
  {
   "cell_type": "code",
   "execution_count": 73,
   "id": "50966a93",
   "metadata": {},
   "outputs": [
    {
     "data": {
      "text/plain": [
       "SSD               637\n",
       "HDD               374\n",
       "SSD +  1TB HDD    183\n",
       "Flash Storage      73\n",
       "SSD +  2TB HDD     15\n",
       "Others             10\n",
       "Hybrid             10\n",
       "Name: Storage Type, dtype: int64"
      ]
     },
     "execution_count": 73,
     "metadata": {},
     "output_type": "execute_result"
    }
   ],
   "source": [
    "df['Storage Type'].value_counts()"
   ]
  },
  {
   "cell_type": "code",
   "execution_count": 74,
   "id": "33975167",
   "metadata": {},
   "outputs": [
    {
     "data": {
      "text/plain": [
       "Intel     722\n",
       "Nvidia    400\n",
       "AMD       180\n",
       "Name: Gpu_Vender, dtype: int64"
      ]
     },
     "execution_count": 74,
     "metadata": {},
     "output_type": "execute_result"
    }
   ],
   "source": [
    "df['Gpu_Vender'].value_counts()"
   ]
  },
  {
   "cell_type": "code",
   "execution_count": 75,
   "id": "25c0e42a",
   "metadata": {},
   "outputs": [
    {
     "data": {
      "text/plain": [
       "Index(['Quadro M1200', 'HD Graphics 405', 'Iris Plus Graphics 640',\n",
       "       'Radeon R5 M420', 'GeForce GTX 950M', 'Radeon R5 M330', 'GeForce MX130',\n",
       "       'GeForce 920M', 'GeForce 930M', 'GeForce GTX 1080',\n",
       "       'Radeon R4 Graphics', 'Radeon R2', 'GeForce GT 940MX', 'Radeon RX 580',\n",
       "       'HD Graphics 6000', 'GeForce GTX 970M', 'GeForce 920MX ', 'Quadro M620',\n",
       "       'Radeon R7 M440', 'GeForce 930MX ', 'HD Graphics 630', 'Quadro M1000M',\n",
       "       'GeForce GTX 940MX', 'GeForce GTX 965M', 'Radeon RX 550',\n",
       "       'Radeon R2 Graphics', 'HD Graphics 510', 'Quadro M2200M',\n",
       "       'Radeon R5 M420X', 'Radeon R4', 'GeForce GTX 1050M', 'GeForce 150MX',\n",
       "       'Quadro M520M', 'GeForce GTX 1050Ti', 'Quadro M2000M',\n",
       "       'GeForce GTX 960<U+039C>', 'GeForce GTX 960', 'Radeon R7 M460',\n",
       "       'Quadro M2200', 'Radeon RX 540', 'HD Graphics 5300',\n",
       "       'Iris Plus Graphics 650', 'Iris Graphics 540', 'FirePro W4190M ',\n",
       "       'GeForce 940M', 'FirePro W6150M', 'FirePro W4190M',\n",
       "       'Radeon R7 Graphics', 'GeForce GTX1060', 'GeForce GTX 980 ',\n",
       "       'GeForce 920', 'Radeon R5 M315', 'Radeon R9 M385', 'Radeon R7 M365X',\n",
       "       'GeForce GTX 930MX', 'Radeon R7 M360', 'Radeon R7 M465', 'Quadro 3000M',\n",
       "       'Quadro M3000M', 'Radeon R3', 'HD Graphics 620 ', 'Quadro M500M',\n",
       "       'Radeon R5 430', 'GeForce GTX 1070M', 'Radeon 540', 'Radeon Pro 455',\n",
       "       'Iris Pro Graphics', 'Radeon Pro 555', 'Radeon Pro 560', 'R4 Graphics',\n",
       "       'Radeon RX 560', 'GTX 980 SLI', 'R17M-M1-70', 'Iris Graphics 550',\n",
       "       'GeForce GTX 940M', 'FirePro W5130M', 'HD Graphics 530',\n",
       "       'GeForce GTX1080', 'GeForce GTX1050 Ti', 'Quadro M620M', 'Graphics 620',\n",
       "       'Radeon R5 520', 'Radeon R7', 'HD Graphics 540', 'GeForce 960M'],\n",
       "      dtype='object')"
      ]
     },
     "execution_count": 75,
     "metadata": {},
     "output_type": "execute_result"
    }
   ],
   "source": [
    "df['Gpu_Type'].value_counts()[df['Gpu_Type'].value_counts()<10].index"
   ]
  },
  {
   "cell_type": "code",
   "execution_count": 76,
   "id": "fb217514",
   "metadata": {},
   "outputs": [],
   "source": [
    "gpu_type=['Quadro M1200', 'HD Graphics 405', 'Iris Plus Graphics 640',\n",
    "       'Radeon R5 M420', 'GeForce GTX 950M', 'Radeon R5 M330', 'GeForce MX130',\n",
    "       'GeForce 920M', 'GeForce 930M', 'GeForce GTX 1080',\n",
    "       'Radeon R4 Graphics', 'Radeon R2', 'GeForce GT 940MX', 'Radeon RX 580',\n",
    "       'HD Graphics 6000', 'GeForce GTX 970M', 'GeForce 920MX ', 'Quadro M620',\n",
    "       'Radeon R7 M440', 'GeForce 930MX ', 'HD Graphics 630', 'Quadro M1000M',\n",
    "       'GeForce GTX 940MX', 'GeForce GTX 965M', 'Radeon RX 550',\n",
    "       'Radeon R2 Graphics', 'HD Graphics 510', 'Quadro M2200M',\n",
    "       'Radeon R5 M420X', 'Radeon R4', 'GeForce GTX 1050M', 'GeForce 150MX',\n",
    "       'Quadro M520M', 'GeForce GTX 1050Ti', 'Quadro M2000M',\n",
    "       'GeForce GTX 960<U+039C>', 'GeForce GTX 960', 'Radeon R7 M460',\n",
    "       'Quadro M2200', 'Radeon RX 540', 'HD Graphics 5300',\n",
    "       'Iris Plus Graphics 650', 'Iris Graphics 540', 'FirePro W4190M ',\n",
    "       'GeForce 940M', 'FirePro W6150M', 'FirePro W4190M',\n",
    "       'Radeon R7 Graphics', 'GeForce GTX1060', 'GeForce GTX 980 ',\n",
    "       'GeForce 920', 'Radeon R5 M315', 'Radeon R9 M385', 'Radeon R7 M365X',\n",
    "       'GeForce GTX 930MX', 'Radeon R7 M360', 'Radeon R7 M465', 'Quadro 3000M',\n",
    "       'Quadro M3000M', 'Radeon R3', 'HD Graphics 620 ', 'Quadro M500M',\n",
    "       'Radeon R5 430', 'GeForce GTX 1070M', 'Radeon 540', 'Radeon Pro 455',\n",
    "       'Iris Pro Graphics', 'Radeon Pro 555', 'Radeon Pro 560', 'R4 Graphics',\n",
    "       'Radeon RX 560', 'GTX 980 SLI', 'R17M-M1-70', 'Iris Graphics 550',\n",
    "       'GeForce GTX 940M', 'FirePro W5130M', 'HD Graphics 530',\n",
    "       'GeForce GTX1080', 'GeForce GTX1050 Ti', 'Quadro M620M', 'Graphics 620',\n",
    "       'Radeon R5 520', 'Radeon R7', 'HD Graphics 540', 'GeForce 960M']"
   ]
  },
  {
   "cell_type": "code",
   "execution_count": 77,
   "id": "21811867",
   "metadata": {},
   "outputs": [],
   "source": [
    "df['Gpu_Type']=df['Gpu_Type'].apply(lambda a: \"Others\" if a in gpu_type else a)"
   ]
  },
  {
   "cell_type": "code",
   "execution_count": 78,
   "id": "6558c93a",
   "metadata": {},
   "outputs": [
    {
     "data": {
      "text/plain": [
       "HD Graphics 620        281\n",
       "Others                 230\n",
       "HD Graphics 520        185\n",
       "UHD Graphics 620        68\n",
       "GeForce GTX 1050        66\n",
       "GeForce GTX 1060        48\n",
       "GeForce 940MX           43\n",
       "Radeon 530              41\n",
       "HD Graphics 500         39\n",
       "HD Graphics 400         37\n",
       "GeForce GTX 1070        30\n",
       "HD Graphics             29\n",
       "GeForce GTX 1050 Ti     28\n",
       "Radeon R5 M430          22\n",
       "GeForce 930MX           20\n",
       "Radeon 520              17\n",
       "GeForce MX150           15\n",
       "HD Graphics 515         15\n",
       "HD Graphics 615         14\n",
       "Radeon R7 M445          14\n",
       "GeForce GTX 960M        14\n",
       "GeForce 920MX           13\n",
       "HD Graphics 505         12\n",
       "Radeon R5               11\n",
       "GeForce GTX 980M        10\n",
       "Name: Gpu_Type, dtype: int64"
      ]
     },
     "execution_count": 78,
     "metadata": {},
     "output_type": "execute_result"
    }
   ],
   "source": [
    "df['Gpu_Type'].value_counts()"
   ]
  },
  {
   "cell_type": "code",
   "execution_count": 79,
   "id": "5be2c5e6",
   "metadata": {},
   "outputs": [],
   "source": [
    "X=df.drop(columns=['Price'],axis=1)\n",
    "y=df['Price']"
   ]
  },
  {
   "cell_type": "code",
   "execution_count": 80,
   "id": "2838fe19",
   "metadata": {},
   "outputs": [],
   "source": [
    "from sklearn.model_selection import train_test_split"
   ]
  },
  {
   "cell_type": "code",
   "execution_count": 81,
   "id": "57822ca2",
   "metadata": {},
   "outputs": [],
   "source": [
    "X_train, X_test, y_train, y_test = train_test_split(X, y, test_size=0.33, random_state=1)"
   ]
  },
  {
   "cell_type": "code",
   "execution_count": 82,
   "id": "d90424bb",
   "metadata": {},
   "outputs": [],
   "source": [
    "from sklearn.compose import ColumnTransformer\n",
    "from sklearn.preprocessing import StandardScaler\n",
    "from sklearn.pipeline import Pipeline\n",
    "from sklearn.preprocessing import OneHotEncoder\n",
    "from sklearn.metrics import r2_score"
   ]
  },
  {
   "cell_type": "code",
   "execution_count": 83,
   "id": "18eedfc7",
   "metadata": {},
   "outputs": [],
   "source": [
    "from sklearn.linear_model import LinearRegression,Lasso,Ridge\n",
    "from sklearn.ensemble import RandomForestRegressor\n",
    "from xgboost import XGBRegressor\n",
    "from sklearn.neighbors import KNeighborsRegressor\n",
    "from sklearn.tree import DecisionTreeRegressor"
   ]
  },
  {
   "cell_type": "code",
   "execution_count": 84,
   "id": "ebfd24f6",
   "metadata": {},
   "outputs": [
    {
     "data": {
      "text/html": [
       "<div>\n",
       "<style scoped>\n",
       "    .dataframe tbody tr th:only-of-type {\n",
       "        vertical-align: middle;\n",
       "    }\n",
       "\n",
       "    .dataframe tbody tr th {\n",
       "        vertical-align: top;\n",
       "    }\n",
       "\n",
       "    .dataframe thead th {\n",
       "        text-align: right;\n",
       "    }\n",
       "</style>\n",
       "<table border=\"1\" class=\"dataframe\">\n",
       "  <thead>\n",
       "    <tr style=\"text-align: right;\">\n",
       "      <th></th>\n",
       "      <th>Company</th>\n",
       "      <th>TypeName</th>\n",
       "      <th>Inches</th>\n",
       "      <th>Touchscreen</th>\n",
       "      <th>Ips</th>\n",
       "      <th>Cpu_Vender</th>\n",
       "      <th>Cpu_Type</th>\n",
       "      <th>Ram</th>\n",
       "      <th>Storage (GB)</th>\n",
       "      <th>Storage Type</th>\n",
       "      <th>Gpu_Vender</th>\n",
       "      <th>Gpu_Type</th>\n",
       "      <th>Weight</th>\n",
       "      <th>OpSys</th>\n",
       "      <th>Price</th>\n",
       "    </tr>\n",
       "  </thead>\n",
       "  <tbody>\n",
       "    <tr>\n",
       "      <th>0</th>\n",
       "      <td>Apple</td>\n",
       "      <td>Ultrabook</td>\n",
       "      <td>13.3</td>\n",
       "      <td>No</td>\n",
       "      <td>Yes</td>\n",
       "      <td>Intel</td>\n",
       "      <td>Core i5</td>\n",
       "      <td>8</td>\n",
       "      <td>128</td>\n",
       "      <td>SSD</td>\n",
       "      <td>Intel</td>\n",
       "      <td>Others</td>\n",
       "      <td>1.37</td>\n",
       "      <td>Mac</td>\n",
       "      <td>115615.247</td>\n",
       "    </tr>\n",
       "    <tr>\n",
       "      <th>1</th>\n",
       "      <td>Apple</td>\n",
       "      <td>Ultrabook</td>\n",
       "      <td>13.3</td>\n",
       "      <td>No</td>\n",
       "      <td>No</td>\n",
       "      <td>Intel</td>\n",
       "      <td>Core i5</td>\n",
       "      <td>8</td>\n",
       "      <td>128</td>\n",
       "      <td>Flash Storage</td>\n",
       "      <td>Intel</td>\n",
       "      <td>Others</td>\n",
       "      <td>1.34</td>\n",
       "      <td>Mac</td>\n",
       "      <td>77578.522</td>\n",
       "    </tr>\n",
       "    <tr>\n",
       "      <th>2</th>\n",
       "      <td>HP</td>\n",
       "      <td>Notebook</td>\n",
       "      <td>15.6</td>\n",
       "      <td>No</td>\n",
       "      <td>No</td>\n",
       "      <td>Intel</td>\n",
       "      <td>Core i5</td>\n",
       "      <td>8</td>\n",
       "      <td>256</td>\n",
       "      <td>SSD</td>\n",
       "      <td>Intel</td>\n",
       "      <td>HD Graphics 620</td>\n",
       "      <td>1.86</td>\n",
       "      <td>Others/No OS/Linux</td>\n",
       "      <td>49622.500</td>\n",
       "    </tr>\n",
       "    <tr>\n",
       "      <th>3</th>\n",
       "      <td>Apple</td>\n",
       "      <td>Ultrabook</td>\n",
       "      <td>15.4</td>\n",
       "      <td>No</td>\n",
       "      <td>Yes</td>\n",
       "      <td>Intel</td>\n",
       "      <td>Core i7</td>\n",
       "      <td>16</td>\n",
       "      <td>512</td>\n",
       "      <td>SSD</td>\n",
       "      <td>AMD</td>\n",
       "      <td>Others</td>\n",
       "      <td>1.83</td>\n",
       "      <td>Mac</td>\n",
       "      <td>218981.935</td>\n",
       "    </tr>\n",
       "    <tr>\n",
       "      <th>4</th>\n",
       "      <td>Apple</td>\n",
       "      <td>Ultrabook</td>\n",
       "      <td>13.3</td>\n",
       "      <td>No</td>\n",
       "      <td>Yes</td>\n",
       "      <td>Intel</td>\n",
       "      <td>Core i5</td>\n",
       "      <td>8</td>\n",
       "      <td>256</td>\n",
       "      <td>SSD</td>\n",
       "      <td>Intel</td>\n",
       "      <td>Others</td>\n",
       "      <td>1.37</td>\n",
       "      <td>Mac</td>\n",
       "      <td>155650.680</td>\n",
       "    </tr>\n",
       "  </tbody>\n",
       "</table>\n",
       "</div>"
      ],
      "text/plain": [
       "  Company   TypeName  Inches Touchscreen  Ips Cpu_Vender Cpu_Type  Ram  \\\n",
       "0   Apple  Ultrabook    13.3          No  Yes      Intel  Core i5    8   \n",
       "1   Apple  Ultrabook    13.3          No   No      Intel  Core i5    8   \n",
       "2      HP   Notebook    15.6          No   No      Intel  Core i5    8   \n",
       "3   Apple  Ultrabook    15.4          No  Yes      Intel  Core i7   16   \n",
       "4   Apple  Ultrabook    13.3          No  Yes      Intel  Core i5    8   \n",
       "\n",
       "   Storage (GB)   Storage Type Gpu_Vender         Gpu_Type  Weight  \\\n",
       "0           128            SSD      Intel           Others    1.37   \n",
       "1           128  Flash Storage      Intel           Others    1.34   \n",
       "2           256            SSD      Intel  HD Graphics 620    1.86   \n",
       "3           512            SSD        AMD           Others    1.83   \n",
       "4           256            SSD      Intel           Others    1.37   \n",
       "\n",
       "                OpSys       Price  \n",
       "0                 Mac  115615.247  \n",
       "1                 Mac   77578.522  \n",
       "2  Others/No OS/Linux   49622.500  \n",
       "3                 Mac  218981.935  \n",
       "4                 Mac  155650.680  "
      ]
     },
     "execution_count": 84,
     "metadata": {},
     "output_type": "execute_result"
    }
   ],
   "source": [
    "df.head()"
   ]
  },
  {
   "cell_type": "code",
   "execution_count": 85,
   "id": "5e0e442a",
   "metadata": {},
   "outputs": [
    {
     "name": "stdout",
     "output_type": "stream",
     "text": [
      "<class 'pandas.core.frame.DataFrame'>\n",
      "Int64Index: 1302 entries, 0 to 1302\n",
      "Data columns (total 15 columns):\n",
      " #   Column        Non-Null Count  Dtype  \n",
      "---  ------        --------------  -----  \n",
      " 0   Company       1302 non-null   object \n",
      " 1   TypeName      1302 non-null   object \n",
      " 2   Inches        1302 non-null   float64\n",
      " 3   Touchscreen   1302 non-null   object \n",
      " 4   Ips           1302 non-null   object \n",
      " 5   Cpu_Vender    1302 non-null   object \n",
      " 6   Cpu_Type      1302 non-null   object \n",
      " 7   Ram           1302 non-null   int64  \n",
      " 8   Storage (GB)  1302 non-null   int64  \n",
      " 9   Storage Type  1302 non-null   object \n",
      " 10  Gpu_Vender    1302 non-null   object \n",
      " 11  Gpu_Type      1302 non-null   object \n",
      " 12  Weight        1302 non-null   float64\n",
      " 13  OpSys         1302 non-null   object \n",
      " 14  Price         1302 non-null   float64\n",
      "dtypes: float64(3), int64(2), object(10)\n",
      "memory usage: 162.8+ KB\n"
     ]
    }
   ],
   "source": [
    "df.info()"
   ]
  },
  {
   "cell_type": "markdown",
   "id": "2a6724e2",
   "metadata": {},
   "source": [
    "    ColumnTransformer : Helps to convert categorical data into dummy variables.\n",
    "    remainder : (passthrough)>> Prevents other columns from any kind of changes during the transformation.."
   ]
  },
  {
   "cell_type": "markdown",
   "id": "1d86ec55",
   "metadata": {},
   "source": [
    "### Linear Regression:"
   ]
  },
  {
   "cell_type": "code",
   "execution_count": 86,
   "id": "cdcf1ce2",
   "metadata": {},
   "outputs": [
    {
     "name": "stdout",
     "output_type": "stream",
     "text": [
      "0.7238784212378782\n"
     ]
    }
   ],
   "source": [
    "step1=ColumnTransformer(transformers=[\n",
    "    ('stan_scalar',StandardScaler(),[2,7,8,12]),\n",
    "    ('column_transformer',OneHotEncoder(sparse=False,drop='first'),[0,1,3,4,5,6,9,10,11,13])\n",
    "],remainder='passthrough')\n",
    "\n",
    "step2=LinearRegression()\n",
    "\n",
    "pipe=Pipeline([\n",
    "    ('step1',step1),\n",
    "    ('step2',step2)\n",
    "])\n",
    "pipe.fit(X_train,y_train)\n",
    "pred=pipe.predict(X_test)\n",
    "print(pipe.score(X_test,y_test))"
   ]
  },
  {
   "cell_type": "markdown",
   "id": "19aa607f",
   "metadata": {},
   "source": [
    "### Lasso Regression:"
   ]
  },
  {
   "cell_type": "code",
   "execution_count": 87,
   "id": "62d2baf3",
   "metadata": {},
   "outputs": [
    {
     "name": "stdout",
     "output_type": "stream",
     "text": [
      "0.7389434184704384\n"
     ]
    }
   ],
   "source": [
    "step1=ColumnTransformer(transformers=[\n",
    "    ('stan_scalar',StandardScaler(),[2,7,8,12]),\n",
    "    ('column_transformer',OneHotEncoder(sparse=False,drop='first'),[0,1,3,4,5,6,9,10,11,13])\n",
    "],remainder='passthrough')\n",
    "\n",
    "step2=Lasso(alpha=100,max_iter=100)\n",
    "\n",
    "pipe=Pipeline([\n",
    "    ('step1',step1),\n",
    "    ('step2',step2)\n",
    "])\n",
    "pipe.fit(X_train,y_train)\n",
    "pred=pipe.predict(X_test)\n",
    "print(pipe.score(X_test,y_test))"
   ]
  },
  {
   "cell_type": "markdown",
   "id": "898d759b",
   "metadata": {},
   "source": [
    "### Ridge Regression:"
   ]
  },
  {
   "cell_type": "code",
   "execution_count": 88,
   "id": "f6789f81",
   "metadata": {},
   "outputs": [
    {
     "name": "stdout",
     "output_type": "stream",
     "text": [
      "0.7142395578592596\n"
     ]
    }
   ],
   "source": [
    "step1=ColumnTransformer(transformers=[\n",
    "    ('stan_scalar',StandardScaler(),[2,7,8,12]),\n",
    "    ('column_transformer',OneHotEncoder(sparse=False,drop='first'),[0,1,3,4,5,6,9,10,11,13])\n",
    "],remainder='passthrough')\n",
    "\n",
    "step2=Ridge(alpha=100)\n",
    "\n",
    "pipe=Pipeline([\n",
    "    ('step1',step1),\n",
    "    ('step2',step2)\n",
    "])\n",
    "pipe.fit(X_train,y_train)\n",
    "pred=pipe.predict(X_test)\n",
    "print(pipe.score(X_test,y_test))"
   ]
  },
  {
   "cell_type": "markdown",
   "id": "7d65224e",
   "metadata": {},
   "source": [
    "### KNN"
   ]
  },
  {
   "cell_type": "code",
   "execution_count": 89,
   "id": "aa1ad26f",
   "metadata": {},
   "outputs": [
    {
     "name": "stdout",
     "output_type": "stream",
     "text": [
      "0.7673781202879298\n"
     ]
    }
   ],
   "source": [
    "step1=ColumnTransformer(transformers=[\n",
    "    ('stan_scalar',StandardScaler(),[2,7,8,12]),\n",
    "    ('column_transformer',OneHotEncoder(sparse=False,drop='first'),[0,1,3,4,5,6,9,10,11,13])\n",
    "],remainder='passthrough')\n",
    "\n",
    "step2=KNeighborsRegressor(n_neighbors=4)\n",
    "\n",
    "pipe=Pipeline([\n",
    "    ('step1',step1),\n",
    "    ('step2',step2)\n",
    "])\n",
    "pipe.fit(X_train,y_train)\n",
    "pred=pipe.predict(X_test)\n",
    "print(pipe.score(X_test,y_test))"
   ]
  },
  {
   "cell_type": "markdown",
   "id": "55c76510",
   "metadata": {},
   "source": [
    "### Decision Tree"
   ]
  },
  {
   "cell_type": "code",
   "execution_count": 90,
   "id": "1f1a0106",
   "metadata": {},
   "outputs": [
    {
     "name": "stdout",
     "output_type": "stream",
     "text": [
      "0.6757151065983963\n"
     ]
    }
   ],
   "source": [
    "step1=ColumnTransformer(transformers=[\n",
    "    ('stan_scalar',StandardScaler(),[2,7,8,12]),\n",
    "    ('column_transformer',OneHotEncoder(sparse=False,drop='first'),[0,1,3,4,5,6,9,10,11,13])\n",
    "],remainder='passthrough')\n",
    "\n",
    "step2=DecisionTreeRegressor()\n",
    "\n",
    "pipe=Pipeline([\n",
    "    ('step1',step1),\n",
    "    ('step2',step2)\n",
    "])\n",
    "pipe.fit(X_train,y_train)\n",
    "pred=pipe.predict(X_test)\n",
    "print(pipe.score(X_test,y_test))"
   ]
  },
  {
   "cell_type": "markdown",
   "id": "a3596abd",
   "metadata": {},
   "source": [
    "### Random Forest"
   ]
  },
  {
   "cell_type": "code",
   "execution_count": 91,
   "id": "9c6099cb",
   "metadata": {},
   "outputs": [
    {
     "name": "stdout",
     "output_type": "stream",
     "text": [
      "R2 score 0.8109541925186382\n"
     ]
    }
   ],
   "source": [
    "step1 = ColumnTransformer(transformers=[\n",
    "    ('col_tnf',OneHotEncoder(sparse=False,drop='first',handle_unknown='error'),['Company','TypeName','Touchscreen','Ips','Cpu_Vender','Cpu_Type','Storage Type','Gpu_Vender','Gpu_Type','OpSys'])\n",
    "],remainder='passthrough')\n",
    "\n",
    "step2 = RandomForestRegressor(n_estimators=100,\n",
    "                              random_state=3,\n",
    "                              max_samples=0.5,\n",
    "                              max_features=0.75,\n",
    "                              max_depth=15)\n",
    "\n",
    "pipe = Pipeline([\n",
    "    ('step1',step1),\n",
    "    ('step2',step2)\n",
    "])\n",
    "\n",
    "pipe.fit(X_train,y_train)\n",
    "\n",
    "y_pred = pipe.predict(X_test)\n",
    "\n",
    "print('R2 score',r2_score(y_test,y_pred))"
   ]
  },
  {
   "cell_type": "code",
   "execution_count": 92,
   "id": "9486e084",
   "metadata": {},
   "outputs": [
    {
     "data": {
      "text/plain": [
       "array([77909.41346])"
      ]
     },
     "execution_count": 92,
     "metadata": {},
     "output_type": "execute_result"
    }
   ],
   "source": [
    "pipe.predict(pd.DataFrame(X_test.loc[1030]).transpose())"
   ]
  },
  {
   "cell_type": "code",
   "execution_count": 93,
   "id": "86701a2a",
   "metadata": {},
   "outputs": [],
   "source": [
    "input_df=pd.DataFrame(X_test.loc[1030])"
   ]
  },
  {
   "cell_type": "code",
   "execution_count": 94,
   "id": "edb693e5",
   "metadata": {},
   "outputs": [
    {
     "data": {
      "text/plain": [
       "array([77909.41346])"
      ]
     },
     "execution_count": 94,
     "metadata": {},
     "output_type": "execute_result"
    }
   ],
   "source": [
    "pipe.predict(input_df.transpose())"
   ]
  },
  {
   "cell_type": "markdown",
   "id": "54911ef1",
   "metadata": {},
   "source": [
    "## Conclusion : Out of all the Algorithms RandomForest Regressor perfomed best!!"
   ]
  },
  {
   "cell_type": "code",
   "execution_count": 95,
   "id": "59469223",
   "metadata": {},
   "outputs": [
    {
     "name": "stdout",
     "output_type": "stream",
     "text": [
      "<class 'pandas.core.frame.DataFrame'>\n",
      "Int64Index: 1302 entries, 0 to 1302\n",
      "Data columns (total 15 columns):\n",
      " #   Column        Non-Null Count  Dtype  \n",
      "---  ------        --------------  -----  \n",
      " 0   Company       1302 non-null   object \n",
      " 1   TypeName      1302 non-null   object \n",
      " 2   Inches        1302 non-null   float64\n",
      " 3   Touchscreen   1302 non-null   object \n",
      " 4   Ips           1302 non-null   object \n",
      " 5   Cpu_Vender    1302 non-null   object \n",
      " 6   Cpu_Type      1302 non-null   object \n",
      " 7   Ram           1302 non-null   int64  \n",
      " 8   Storage (GB)  1302 non-null   int64  \n",
      " 9   Storage Type  1302 non-null   object \n",
      " 10  Gpu_Vender    1302 non-null   object \n",
      " 11  Gpu_Type      1302 non-null   object \n",
      " 12  Weight        1302 non-null   float64\n",
      " 13  OpSys         1302 non-null   object \n",
      " 14  Price         1302 non-null   float64\n",
      "dtypes: float64(3), int64(2), object(10)\n",
      "memory usage: 162.8+ KB\n"
     ]
    }
   ],
   "source": [
    "df.info()"
   ]
  },
  {
   "cell_type": "code",
   "execution_count": 96,
   "id": "e1d57193",
   "metadata": {},
   "outputs": [],
   "source": [
    "import pickle"
   ]
  },
  {
   "cell_type": "code",
   "execution_count": 97,
   "id": "1d761a6c",
   "metadata": {},
   "outputs": [],
   "source": [
    "pickle.dump(pipe,open('random_forest.pkl','wb'))"
   ]
  },
  {
   "cell_type": "code",
   "execution_count": 98,
   "id": "52a2ab1c",
   "metadata": {},
   "outputs": [
    {
     "data": {
      "text/html": [
       "<div>\n",
       "<style scoped>\n",
       "    .dataframe tbody tr th:only-of-type {\n",
       "        vertical-align: middle;\n",
       "    }\n",
       "\n",
       "    .dataframe tbody tr th {\n",
       "        vertical-align: top;\n",
       "    }\n",
       "\n",
       "    .dataframe thead th {\n",
       "        text-align: right;\n",
       "    }\n",
       "</style>\n",
       "<table border=\"1\" class=\"dataframe\">\n",
       "  <thead>\n",
       "    <tr style=\"text-align: right;\">\n",
       "      <th></th>\n",
       "      <th>Company</th>\n",
       "      <th>TypeName</th>\n",
       "      <th>Inches</th>\n",
       "      <th>Touchscreen</th>\n",
       "      <th>Ips</th>\n",
       "      <th>Cpu_Vender</th>\n",
       "      <th>Cpu_Type</th>\n",
       "      <th>Ram</th>\n",
       "      <th>Storage (GB)</th>\n",
       "      <th>Storage Type</th>\n",
       "      <th>Gpu_Vender</th>\n",
       "      <th>Gpu_Type</th>\n",
       "      <th>Weight</th>\n",
       "      <th>OpSys</th>\n",
       "      <th>Price</th>\n",
       "    </tr>\n",
       "  </thead>\n",
       "  <tbody>\n",
       "    <tr>\n",
       "      <th>0</th>\n",
       "      <td>Apple</td>\n",
       "      <td>Ultrabook</td>\n",
       "      <td>13.3</td>\n",
       "      <td>No</td>\n",
       "      <td>Yes</td>\n",
       "      <td>Intel</td>\n",
       "      <td>Core i5</td>\n",
       "      <td>8</td>\n",
       "      <td>128</td>\n",
       "      <td>SSD</td>\n",
       "      <td>Intel</td>\n",
       "      <td>Others</td>\n",
       "      <td>1.37</td>\n",
       "      <td>Mac</td>\n",
       "      <td>115615.247</td>\n",
       "    </tr>\n",
       "    <tr>\n",
       "      <th>1</th>\n",
       "      <td>Apple</td>\n",
       "      <td>Ultrabook</td>\n",
       "      <td>13.3</td>\n",
       "      <td>No</td>\n",
       "      <td>No</td>\n",
       "      <td>Intel</td>\n",
       "      <td>Core i5</td>\n",
       "      <td>8</td>\n",
       "      <td>128</td>\n",
       "      <td>Flash Storage</td>\n",
       "      <td>Intel</td>\n",
       "      <td>Others</td>\n",
       "      <td>1.34</td>\n",
       "      <td>Mac</td>\n",
       "      <td>77578.522</td>\n",
       "    </tr>\n",
       "  </tbody>\n",
       "</table>\n",
       "</div>"
      ],
      "text/plain": [
       "  Company   TypeName  Inches Touchscreen  Ips Cpu_Vender Cpu_Type  Ram  \\\n",
       "0   Apple  Ultrabook    13.3          No  Yes      Intel  Core i5    8   \n",
       "1   Apple  Ultrabook    13.3          No   No      Intel  Core i5    8   \n",
       "\n",
       "   Storage (GB)   Storage Type Gpu_Vender Gpu_Type  Weight OpSys       Price  \n",
       "0           128            SSD      Intel   Others    1.37   Mac  115615.247  \n",
       "1           128  Flash Storage      Intel   Others    1.34   Mac   77578.522  "
      ]
     },
     "execution_count": 98,
     "metadata": {},
     "output_type": "execute_result"
    }
   ],
   "source": [
    "df.head(2)"
   ]
  },
  {
   "cell_type": "code",
   "execution_count": 99,
   "id": "f02fa1d8",
   "metadata": {},
   "outputs": [],
   "source": [
    "pickle.dump(df,open('final_df.pkl','wb'))"
   ]
  },
  {
   "cell_type": "code",
   "execution_count": 100,
   "id": "910708aa",
   "metadata": {},
   "outputs": [
    {
     "data": {
      "text/plain": [
       "array(['No', 'Yes'], dtype=object)"
      ]
     },
     "execution_count": 100,
     "metadata": {},
     "output_type": "execute_result"
    }
   ],
   "source": [
    "df['Touchscreen'].unique()"
   ]
  },
  {
   "cell_type": "code",
   "execution_count": 101,
   "id": "14294053",
   "metadata": {},
   "outputs": [
    {
     "data": {
      "text/plain": [
       "array(['Yes', 'No'], dtype=object)"
      ]
     },
     "execution_count": 101,
     "metadata": {},
     "output_type": "execute_result"
    }
   ],
   "source": [
    "df['Ips'].unique()"
   ]
  },
  {
   "cell_type": "code",
   "execution_count": 102,
   "id": "9d0e9dad",
   "metadata": {},
   "outputs": [
    {
     "data": {
      "text/plain": [
       "Index(['Dell', 'Lenovo', 'HP', 'Asus', 'Acer', 'MSI', 'Others', 'Toshiba',\n",
       "       'Apple'],\n",
       "      dtype='object')"
      ]
     },
     "execution_count": 102,
     "metadata": {},
     "output_type": "execute_result"
    }
   ],
   "source": [
    "df['Company'].value_counts().index"
   ]
  },
  {
   "cell_type": "code",
   "execution_count": 103,
   "id": "9de41fb7",
   "metadata": {},
   "outputs": [
    {
     "data": {
      "text/plain": [
       "Index(['Notebook', 'Gaming', 'Ultrabook', '2 in 1 Convertible', 'Workstation',\n",
       "       'Netbook'],\n",
       "      dtype='object')"
      ]
     },
     "execution_count": 103,
     "metadata": {},
     "output_type": "execute_result"
    }
   ],
   "source": [
    "df['TypeName'].value_counts().index"
   ]
  },
  {
   "cell_type": "code",
   "execution_count": 104,
   "id": "5034c73a",
   "metadata": {},
   "outputs": [
    {
     "data": {
      "text/plain": [
       "Index(['Core i7', 'Core i5', 'Core i3', 'Celeron Dual Core', 'I n t e l',\n",
       "       'Others', 'Core M', 'A9-Series 9420', 'A6-Series 9220',\n",
       "       'Celeron Quad Core', 'A12-Series 9720P'],\n",
       "      dtype='object')"
      ]
     },
     "execution_count": 104,
     "metadata": {},
     "output_type": "execute_result"
    }
   ],
   "source": [
    "df['Cpu_Type'].value_counts().index"
   ]
  },
  {
   "cell_type": "code",
   "execution_count": 105,
   "id": "f312a638",
   "metadata": {},
   "outputs": [
    {
     "data": {
      "text/plain": [
       "Index(['SSD', 'HDD', 'SSD +  1TB HDD', 'Flash Storage', 'SSD +  2TB HDD',\n",
       "       'Others', 'Hybrid'],\n",
       "      dtype='object')"
      ]
     },
     "execution_count": 105,
     "metadata": {},
     "output_type": "execute_result"
    }
   ],
   "source": [
    "df['Storage Type'].value_counts().index"
   ]
  },
  {
   "cell_type": "code",
   "execution_count": 106,
   "id": "7350e9b2",
   "metadata": {},
   "outputs": [
    {
     "data": {
      "text/plain": [
       "Index(['HD Graphics 620', 'Others', 'HD Graphics 520', 'UHD Graphics 620',\n",
       "       'GeForce GTX 1050', 'GeForce GTX 1060', 'GeForce 940MX', 'Radeon 530',\n",
       "       'HD Graphics 500', 'HD Graphics 400', 'GeForce GTX 1070', 'HD Graphics',\n",
       "       'GeForce GTX 1050 Ti', 'Radeon R5 M430', 'GeForce 930MX', 'Radeon 520',\n",
       "       'GeForce MX150', 'HD Graphics 515', 'HD Graphics 615', 'Radeon R7 M445',\n",
       "       'GeForce GTX 960M', 'GeForce 920MX', 'HD Graphics 505', 'Radeon R5',\n",
       "       'GeForce GTX 980M'],\n",
       "      dtype='object')"
      ]
     },
     "execution_count": 106,
     "metadata": {},
     "output_type": "execute_result"
    }
   ],
   "source": [
    "df['Gpu_Type'].value_counts().index"
   ]
  },
  {
   "cell_type": "code",
   "execution_count": 107,
   "id": "16c14934",
   "metadata": {},
   "outputs": [
    {
     "data": {
      "text/html": [
       "<div>\n",
       "<style scoped>\n",
       "    .dataframe tbody tr th:only-of-type {\n",
       "        vertical-align: middle;\n",
       "    }\n",
       "\n",
       "    .dataframe tbody tr th {\n",
       "        vertical-align: top;\n",
       "    }\n",
       "\n",
       "    .dataframe thead th {\n",
       "        text-align: right;\n",
       "    }\n",
       "</style>\n",
       "<table border=\"1\" class=\"dataframe\">\n",
       "  <thead>\n",
       "    <tr style=\"text-align: right;\">\n",
       "      <th></th>\n",
       "      <th>Company</th>\n",
       "      <th>TypeName</th>\n",
       "      <th>Inches</th>\n",
       "      <th>Touchscreen</th>\n",
       "      <th>Ips</th>\n",
       "      <th>Cpu_Vender</th>\n",
       "      <th>Cpu_Type</th>\n",
       "      <th>Ram</th>\n",
       "      <th>Storage (GB)</th>\n",
       "      <th>Storage Type</th>\n",
       "      <th>Gpu_Vender</th>\n",
       "      <th>Gpu_Type</th>\n",
       "      <th>Weight</th>\n",
       "      <th>OpSys</th>\n",
       "      <th>Price</th>\n",
       "    </tr>\n",
       "  </thead>\n",
       "  <tbody>\n",
       "    <tr>\n",
       "      <th>0</th>\n",
       "      <td>Apple</td>\n",
       "      <td>Ultrabook</td>\n",
       "      <td>13.3</td>\n",
       "      <td>No</td>\n",
       "      <td>Yes</td>\n",
       "      <td>Intel</td>\n",
       "      <td>Core i5</td>\n",
       "      <td>8</td>\n",
       "      <td>128</td>\n",
       "      <td>SSD</td>\n",
       "      <td>Intel</td>\n",
       "      <td>Others</td>\n",
       "      <td>1.37</td>\n",
       "      <td>Mac</td>\n",
       "      <td>115615.247</td>\n",
       "    </tr>\n",
       "    <tr>\n",
       "      <th>1</th>\n",
       "      <td>Apple</td>\n",
       "      <td>Ultrabook</td>\n",
       "      <td>13.3</td>\n",
       "      <td>No</td>\n",
       "      <td>No</td>\n",
       "      <td>Intel</td>\n",
       "      <td>Core i5</td>\n",
       "      <td>8</td>\n",
       "      <td>128</td>\n",
       "      <td>Flash Storage</td>\n",
       "      <td>Intel</td>\n",
       "      <td>Others</td>\n",
       "      <td>1.34</td>\n",
       "      <td>Mac</td>\n",
       "      <td>77578.522</td>\n",
       "    </tr>\n",
       "    <tr>\n",
       "      <th>2</th>\n",
       "      <td>HP</td>\n",
       "      <td>Notebook</td>\n",
       "      <td>15.6</td>\n",
       "      <td>No</td>\n",
       "      <td>No</td>\n",
       "      <td>Intel</td>\n",
       "      <td>Core i5</td>\n",
       "      <td>8</td>\n",
       "      <td>256</td>\n",
       "      <td>SSD</td>\n",
       "      <td>Intel</td>\n",
       "      <td>HD Graphics 620</td>\n",
       "      <td>1.86</td>\n",
       "      <td>Others/No OS/Linux</td>\n",
       "      <td>49622.500</td>\n",
       "    </tr>\n",
       "    <tr>\n",
       "      <th>3</th>\n",
       "      <td>Apple</td>\n",
       "      <td>Ultrabook</td>\n",
       "      <td>15.4</td>\n",
       "      <td>No</td>\n",
       "      <td>Yes</td>\n",
       "      <td>Intel</td>\n",
       "      <td>Core i7</td>\n",
       "      <td>16</td>\n",
       "      <td>512</td>\n",
       "      <td>SSD</td>\n",
       "      <td>AMD</td>\n",
       "      <td>Others</td>\n",
       "      <td>1.83</td>\n",
       "      <td>Mac</td>\n",
       "      <td>218981.935</td>\n",
       "    </tr>\n",
       "    <tr>\n",
       "      <th>4</th>\n",
       "      <td>Apple</td>\n",
       "      <td>Ultrabook</td>\n",
       "      <td>13.3</td>\n",
       "      <td>No</td>\n",
       "      <td>Yes</td>\n",
       "      <td>Intel</td>\n",
       "      <td>Core i5</td>\n",
       "      <td>8</td>\n",
       "      <td>256</td>\n",
       "      <td>SSD</td>\n",
       "      <td>Intel</td>\n",
       "      <td>Others</td>\n",
       "      <td>1.37</td>\n",
       "      <td>Mac</td>\n",
       "      <td>155650.680</td>\n",
       "    </tr>\n",
       "  </tbody>\n",
       "</table>\n",
       "</div>"
      ],
      "text/plain": [
       "  Company   TypeName  Inches Touchscreen  Ips Cpu_Vender Cpu_Type  Ram  \\\n",
       "0   Apple  Ultrabook    13.3          No  Yes      Intel  Core i5    8   \n",
       "1   Apple  Ultrabook    13.3          No   No      Intel  Core i5    8   \n",
       "2      HP   Notebook    15.6          No   No      Intel  Core i5    8   \n",
       "3   Apple  Ultrabook    15.4          No  Yes      Intel  Core i7   16   \n",
       "4   Apple  Ultrabook    13.3          No  Yes      Intel  Core i5    8   \n",
       "\n",
       "   Storage (GB)   Storage Type Gpu_Vender         Gpu_Type  Weight  \\\n",
       "0           128            SSD      Intel           Others    1.37   \n",
       "1           128  Flash Storage      Intel           Others    1.34   \n",
       "2           256            SSD      Intel  HD Graphics 620    1.86   \n",
       "3           512            SSD        AMD           Others    1.83   \n",
       "4           256            SSD      Intel           Others    1.37   \n",
       "\n",
       "                OpSys       Price  \n",
       "0                 Mac  115615.247  \n",
       "1                 Mac   77578.522  \n",
       "2  Others/No OS/Linux   49622.500  \n",
       "3                 Mac  218981.935  \n",
       "4                 Mac  155650.680  "
      ]
     },
     "execution_count": 107,
     "metadata": {},
     "output_type": "execute_result"
    }
   ],
   "source": [
    "df.head()"
   ]
  },
  {
   "cell_type": "code",
   "execution_count": 108,
   "id": "84bb7fd9",
   "metadata": {},
   "outputs": [
    {
     "data": {
      "text/plain": [
       "(0, 1, 3, 4, 5, 6, 9, 10, 11, 13)"
      ]
     },
     "execution_count": 108,
     "metadata": {},
     "output_type": "execute_result"
    }
   ],
   "source": [
    "0,1,3,4,5,6,9,10,11,13"
   ]
  },
  {
   "cell_type": "code",
   "execution_count": 109,
   "id": "775d721d",
   "metadata": {},
   "outputs": [
    {
     "data": {
      "text/plain": [
       "['Company',\n",
       " 'TypeName',\n",
       " 'Touchscreen',\n",
       " 'Ips',\n",
       " 'Cpu_Vender',\n",
       " 'Cpu_Type',\n",
       " 'Storage Type',\n",
       " 'Gpu_Vender',\n",
       " 'Gpu_Type',\n",
       " 'OpSys']"
      ]
     },
     "execution_count": 109,
     "metadata": {},
     "output_type": "execute_result"
    }
   ],
   "source": [
    "['Company','TypeName','Touchscreen','Ips','Cpu_Vender','Cpu_Type','Storage Type','Gpu_Vender','Gpu_Type','OpSys']"
   ]
  },
  {
   "cell_type": "code",
   "execution_count": null,
   "id": "db05a832",
   "metadata": {},
   "outputs": [],
   "source": []
  },
  {
   "cell_type": "code",
   "execution_count": null,
   "id": "775e6181",
   "metadata": {},
   "outputs": [],
   "source": []
  },
  {
   "cell_type": "code",
   "execution_count": null,
   "id": "ae98dab0",
   "metadata": {},
   "outputs": [],
   "source": []
  }
 ],
 "metadata": {
  "kernelspec": {
   "display_name": "Python 3 (ipykernel)",
   "language": "python",
   "name": "python3"
  },
  "language_info": {
   "codemirror_mode": {
    "name": "ipython",
    "version": 3
   },
   "file_extension": ".py",
   "mimetype": "text/x-python",
   "name": "python",
   "nbconvert_exporter": "python",
   "pygments_lexer": "ipython3",
   "version": "3.9.7"
  }
 },
 "nbformat": 4,
 "nbformat_minor": 5
}
